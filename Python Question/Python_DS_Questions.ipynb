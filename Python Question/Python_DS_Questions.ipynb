{
 "cells": [
  {
   "cell_type": "markdown",
   "id": "63e28676",
   "metadata": {},
   "source": [
    "### 1) swap three number a,b,c to c,b,a respectively"
   ]
  },
  {
   "cell_type": "code",
   "execution_count": null,
   "id": "a2f048d7",
   "metadata": {},
   "outputs": [],
   "source": [
    "a=5\n",
    "b=6\n",
    "c=7\n",
    "print(\"before swapping\",a,b,c)\n",
    "a, b, c = c, b, a\n",
    "print(\"after swapping\",a,b,c)"
   ]
  },
  {
   "cell_type": "markdown",
   "id": "5f1bae9f",
   "metadata": {},
   "source": [
    "### 2) reverse a string"
   ]
  },
  {
   "cell_type": "code",
   "execution_count": null,
   "id": "ab40f6ef",
   "metadata": {},
   "outputs": [],
   "source": [
    "string = \"I saw you dancing in a crowded room\"\n",
    "str2 =''\n",
    "for i in string:\n",
    "    str2 = i + str2\n",
    "str2"
   ]
  },
  {
   "cell_type": "code",
   "execution_count": null,
   "id": "74ce3721",
   "metadata": {},
   "outputs": [],
   "source": [
    "string[::-1]"
   ]
  },
  {
   "cell_type": "markdown",
   "id": "06c9b802",
   "metadata": {},
   "source": [
    "### 3) total vowels in a sentence/word."
   ]
  },
  {
   "cell_type": "code",
   "execution_count": null,
   "id": "0af8b070",
   "metadata": {},
   "outputs": [],
   "source": [
    "sentence = 'All the silver and gold only make my skin cold'\n",
    "vowels = 'aeiou'\n",
    "count = 0\n",
    "for i in sentence:\n",
    "    if i in vowels:\n",
    "        count = count + 1\n",
    "count"
   ]
  },
  {
   "cell_type": "markdown",
   "id": "c0389f68",
   "metadata": {},
   "source": [
    "### 4) if your name contains all unique letter"
   ]
  },
  {
   "cell_type": "code",
   "execution_count": null,
   "id": "509d3a71",
   "metadata": {},
   "outputs": [],
   "source": [
    "name = 'Priyanshu'\n",
    "ans = True\n",
    "for i in name:\n",
    "    if i.count(name)>1:\n",
    "        ans = False\n",
    "        break\n",
    "if(ans):\n",
    "    print(\"yes unique character\")\n",
    "else:\n",
    "    print('no')"
   ]
  },
  {
   "cell_type": "markdown",
   "id": "c8e8d6a0",
   "metadata": {},
   "source": [
    "### 5) sum of all digit of given a number"
   ]
  },
  {
   "cell_type": "code",
   "execution_count": null,
   "id": "f2cc80d7",
   "metadata": {},
   "outputs": [],
   "source": [
    "num = 54321\n",
    "total = 0\n",
    "while(num):\n",
    "    ld = num%10\n",
    "    total += ld\n",
    "    num //= 10\n",
    "total"
   ]
  },
  {
   "cell_type": "markdown",
   "id": "a3d18b57",
   "metadata": {},
   "source": [
    "### 6) remove duplicate value from list"
   ]
  },
  {
   "cell_type": "code",
   "execution_count": null,
   "id": "04e91d02",
   "metadata": {},
   "outputs": [],
   "source": [
    "lst = [1, 2, 2, 3, 4, 4, 5]\n",
    "ans = []\n",
    "[ans.append(val) for val in lst if val not in ans]\n",
    "ans"
   ]
  },
  {
   "cell_type": "markdown",
   "id": "0415d7ed",
   "metadata": {},
   "source": [
    "### 7) split --"
   ]
  },
  {
   "cell_type": "code",
   "execution_count": null,
   "id": "f248fef3",
   "metadata": {},
   "outputs": [],
   "source": [
    "word = 'geeks, for, geeks, pawan'\n",
    "\n",
    "# maxsplit: 0\n",
    "print(word.split(', ', 0))\n",
    "\n",
    "# maxsplit: 4\n",
    "print(word.split(', ', 4))\n",
    "\n",
    "# maxsplit: 1\n",
    "print(word.split(', ', 1))\n",
    "\n",
    "# by default\n",
    "word.split()"
   ]
  },
  {
   "cell_type": "markdown",
   "id": "f661bea0",
   "metadata": {},
   "source": [
    "### 8) Largest element in a list"
   ]
  },
  {
   "cell_type": "code",
   "execution_count": null,
   "id": "365b91f5",
   "metadata": {},
   "outputs": [],
   "source": [
    "lst = [4, 1, 9, 3, 7]\n",
    "max_no = lst[0]\n",
    "for i in lst:\n",
    "    if i>max_no:\n",
    "        max_no = i\n",
    "max_no"
   ]
  },
  {
   "cell_type": "code",
   "execution_count": null,
   "id": "0269aec9",
   "metadata": {},
   "outputs": [],
   "source": [
    "lst.sort()\n",
    "lst[-1]"
   ]
  },
  {
   "cell_type": "markdown",
   "id": "8d065a3b",
   "metadata": {},
   "source": [
    "Find the second largest Number"
   ]
  },
  {
   "cell_type": "code",
   "execution_count": 94,
   "id": "fbe72c5b",
   "metadata": {},
   "outputs": [
    {
     "data": {
      "text/plain": [
       "9"
      ]
     },
     "execution_count": 94,
     "metadata": {},
     "output_type": "execute_result"
    }
   ],
   "source": [
    "def Max(lt):\n",
    "    m = lt[0]\n",
    "    for i in lt:\n",
    "        if i>m:\n",
    "            m=i\n",
    "            \n",
    "    n = lt[0]\n",
    "    for i in lt:\n",
    "        if i>n and i!=m:\n",
    "            n=i\n",
    "    return n\n",
    "\n",
    "lst = [2,5,7,32,9]\n",
    "ans = Max(lst)\n",
    "ans"
   ]
  },
  {
   "cell_type": "markdown",
   "id": "baccd5f1",
   "metadata": {},
   "source": [
    "### 9) Reverse a number"
   ]
  },
  {
   "cell_type": "code",
   "execution_count": null,
   "id": "e810ed43",
   "metadata": {},
   "outputs": [],
   "source": [
    "num = 347623\n",
    "ans = 0\n",
    "while(num):\n",
    "    ld = num%10\n",
    "    ans = ans*10 + ld\n",
    "    num = num//10\n",
    "    \n",
    "ans"
   ]
  },
  {
   "cell_type": "code",
   "execution_count": null,
   "id": "fb1b4634",
   "metadata": {},
   "outputs": [],
   "source": [
    "num = 347623\n",
    "new_num = str(num)\n",
    "new  = int(new_num[::-1])\n",
    "new"
   ]
  },
  {
   "cell_type": "code",
   "execution_count": null,
   "id": "02b208b4",
   "metadata": {},
   "outputs": [],
   "source": [
    "# int to list\n",
    "num = 347623\n",
    "new_num = list(map(int, str(num)))\n",
    "new_num.reverse()\n",
    "new_num"
   ]
  },
  {
   "cell_type": "markdown",
   "id": "5da03112",
   "metadata": {},
   "source": [
    "### 10) Leap Year"
   ]
  },
  {
   "cell_type": "code",
   "execution_count": null,
   "id": "a2671fd9",
   "metadata": {},
   "outputs": [],
   "source": [
    "year = 2025\n",
    "if((year%4==0 and year%100!=0) or year%400==0):\n",
    "    print(\"LEAP YEAR\")\n",
    "else:\n",
    "    print(\"not a leap year\")"
   ]
  },
  {
   "cell_type": "markdown",
   "id": "2db12eed",
   "metadata": {},
   "source": [
    "#####\n",
    "    🌍 Background: Earth's Orbit is Not Exactly 365 Days\n",
    "    One full orbit of Earth around the sun takes about 365.2422 days — not exactly 365.\n",
    "    So if we always had 365 days every year, we’d lose ~0.2422 days (about 6 hours) each year.\n",
    "    ✅ Fixing That with Leap Years\n",
    "    To make up for this, we add 1 extra day every 4 years → that's the simple divisible by 4 rule.\n",
    "    This gives an average year length of:\n",
    "    365 + 1/4 = 365.25 days\n",
    "    But now we’re slightly over the actual length (365.2422). So over time, this extra ~0.0078 day per year adds up.\n",
    "\n",
    "    ⚠️ Problem: Overcorrecting Every 4 Years\n",
    "    That 365.25 average is too long by about 11 minutes per year.\n",
    "    After 128 years, we’re ahead by a full day.\n",
    "\n",
    "    🛠 Solution: Skip Some Leap Years\n",
    "    To fix that, we skip some leap years — specifically:\n",
    "\n",
    "    Years divisible by 100 are NOT leap years (e.g., 1700, 1800, 1900).\n",
    "\n",
    "    So now, the average becomes closer to:\n",
    "    365 + 1/4 - 1/100 = 365.24\n",
    "    Still not perfect...\n",
    "\n",
    "    🔧 Final Adjustment: But Keep Every 400 Years\n",
    "    Years divisible by 400 ARE leap years (e.g., 1600, 2000).\n",
    "    So we add back 1 day every 400 years, adjusting the average to:\n",
    "    365 + 1/4 - 1/100 + 1/400 = 365.2425 days\n",
    "    Which is very close to the real 365.2422 — just 26 seconds off per year."
   ]
  },
  {
   "cell_type": "markdown",
   "id": "a4ff6650",
   "metadata": {},
   "source": [
    "### 11) Factorial"
   ]
  },
  {
   "cell_type": "code",
   "execution_count": null,
   "id": "eb9bb4ce",
   "metadata": {},
   "outputs": [],
   "source": [
    "def fact(n):\n",
    "    if n==0:\n",
    "        return 1\n",
    "    return n*fact(n-1)\n",
    "\n",
    "ans = fact(5)\n",
    "ans"
   ]
  },
  {
   "cell_type": "markdown",
   "id": "8c67c145",
   "metadata": {},
   "source": [
    "### 12) Prime Number"
   ]
  },
  {
   "cell_type": "code",
   "execution_count": null,
   "id": "8639ad02",
   "metadata": {},
   "outputs": [],
   "source": [
    "import math\n",
    "\n",
    "def isPrime(n):\n",
    "    if(n<2):\n",
    "        return False\n",
    "    for i in range(2, int(math.sqrt(n))+1):\n",
    "        if n%i==0:\n",
    "            return False\n",
    "    return True\n",
    "\n",
    "ans = isPrime(23)\n",
    "ans"
   ]
  },
  {
   "cell_type": "markdown",
   "id": "802ec400",
   "metadata": {},
   "source": [
    "### 13) Intersection in a list"
   ]
  },
  {
   "cell_type": "code",
   "execution_count": null,
   "id": "13b2d8f1",
   "metadata": {},
   "outputs": [],
   "source": [
    "a = [1, 2, 3, 4]\n",
    "b = [3, 4, 5, 6]\n",
    "ans = []\n",
    "for i in a:\n",
    "    if i in b:\n",
    "        ans.append(i)\n",
    "ans"
   ]
  },
  {
   "cell_type": "code",
   "execution_count": null,
   "id": "2c43851c",
   "metadata": {},
   "outputs": [],
   "source": [
    "a_a = set(a)\n",
    "b_b = set(b)\n",
    "ans = a_a.intersection(b_b)\n",
    "new_Ans = list(ans)\n",
    "new_Ans"
   ]
  },
  {
   "cell_type": "markdown",
   "id": "1e65857e",
   "metadata": {},
   "source": [
    "### 14) Palindrome or not"
   ]
  },
  {
   "cell_type": "code",
   "execution_count": null,
   "id": "0df42a88",
   "metadata": {},
   "outputs": [],
   "source": [
    "s1 = 'sore was I ere I saw eros'\n",
    "s2 = ''\n",
    "for i in s1:\n",
    "    s2 = i+s2\n",
    "# print(s1,'--',s2)\n",
    "if(s1.lower() == s2.lower()):\n",
    "    print(\"Yes s1 and s2 are palindrome\")\n",
    "else:\n",
    "    print(\"no\")"
   ]
  },
  {
   "cell_type": "markdown",
   "id": "0d522e01",
   "metadata": {},
   "source": [
    "### 15) WAP to enter you full name as input and then store the first name and last name in separate variables"
   ]
  },
  {
   "cell_type": "code",
   "execution_count": null,
   "id": "61d3e838",
   "metadata": {},
   "outputs": [],
   "source": [
    "i = input(\"Enter a name\")\n",
    "n = i.split()\n",
    "\n",
    "if(len(n)==3):\n",
    "    first_name = n[0]\n",
    "    middle_name = n[1]\n",
    "    last_name = n[2]\n",
    "    print(n)\n",
    "    print(first_name,middle_name,last_name)\n",
    "    \n",
    "elif(len(n)==2):\n",
    "    first_name = n[0]\n",
    "    last_name = n[1]\n",
    "    print(n)\n",
    "    print(first_name,last_name)\n",
    "    \n",
    "else:\n",
    "    name = n[0]\n",
    "    print(n)\n",
    "    print(name)    "
   ]
  },
  {
   "cell_type": "markdown",
   "id": "8a2ad57e",
   "metadata": {},
   "source": [
    "### 16) Remove all characters from string1 that are present in string2."
   ]
  },
  {
   "cell_type": "code",
   "execution_count": null,
   "id": "54415f3d",
   "metadata": {},
   "outputs": [],
   "source": [
    "string1 = \"hello world\"\n",
    "string2 = \"low\"\n",
    "ans = ''\n",
    "for i in string1:\n",
    "    if i not in string2:\n",
    "        ans += i\n",
    "ans"
   ]
  },
  {
   "cell_type": "markdown",
   "id": "cc664824",
   "metadata": {},
   "source": [
    "### 17) Store all the numbers greater than threshold value into a tuple."
   ]
  },
  {
   "cell_type": "code",
   "execution_count": null,
   "id": "3c3f2511",
   "metadata": {},
   "outputs": [],
   "source": [
    "threshold= 50\n",
    "tuple_1=(10,55,66,42,90,11,120)\n",
    "\n",
    "filtered_list=[]\n",
    "\n",
    "for num in tuple_1:\n",
    "    if num > threshold:\n",
    "        filtered_list.append(num)\n",
    "filtered_tuple=tuple(filtered_list)\n",
    "print(filtered_tuple)"
   ]
  },
  {
   "cell_type": "markdown",
   "id": "204f9922",
   "metadata": {},
   "source": [
    "### 18) Find the characters that appear in both strings."
   ]
  },
  {
   "cell_type": "code",
   "execution_count": null,
   "id": "a3dc3d18",
   "metadata": {},
   "outputs": [],
   "source": [
    "str1 = \"abcdef\"\n",
    "str2 = \"bdfghj\"\n",
    "# Output: ['b', 'd', 'f']\n",
    "\n",
    "ans = ''.split()\n",
    "print(ans)\n",
    "for i in str1:\n",
    "    for j in str2:\n",
    "        if(i in str2):\n",
    "            ans += i\n",
    "            break\n",
    "ans"
   ]
  },
  {
   "cell_type": "markdown",
   "id": "c668462f",
   "metadata": {},
   "source": [
    "### 19) Remove all words longer than n characters from the sentence."
   ]
  },
  {
   "cell_type": "code",
   "execution_count": null,
   "id": "4b2e90a7",
   "metadata": {},
   "outputs": [],
   "source": [
    "sentence = \"Python programming is fun\"\n",
    "n = 6\n",
    "# Output: \"Python is fun\"\n",
    "test = sentence.split()\n",
    "ans = []\n",
    "for i in test:\n",
    "    if(len(i)<=6):\n",
    "        ans.append(i)\n",
    "ans"
   ]
  },
  {
   "cell_type": "markdown",
   "id": "b1bbff81",
   "metadata": {},
   "source": [
    "### 20)   Group words in a sentence by their lengths."
   ]
  },
  {
   "cell_type": "code",
   "execution_count": null,
   "id": "fb6f0060",
   "metadata": {},
   "outputs": [],
   "source": [
    "sentence = \"Python is fun and challenging\"\n",
    "# Output: {6: ['Python'], 2: ['is'], 3: ['fun', 'and'], 11: ['challenging']}\n",
    "\n",
    "words = sentence.split()\n",
    "print(words)\n",
    "ans = {}\n",
    "\n",
    "for i in words:\n",
    "    length = len(i)\n",
    "    if length not in ans:\n",
    "        ans[length] = []\n",
    "    ans[length].append(i)\n",
    "\n",
    "ans"
   ]
  },
  {
   "cell_type": "markdown",
   "id": "5b653538",
   "metadata": {},
   "source": [
    "### 21) Power of a number n"
   ]
  },
  {
   "cell_type": "code",
   "execution_count": null,
   "id": "fa680099",
   "metadata": {},
   "outputs": [],
   "source": [
    "'''\n",
    "27 is a number pow(3,3)\n",
    "32 is a number pow(2,5)\n",
    "'''\n",
    "import math\n",
    "print(\"Enter number and base respectively:\")\n",
    "num  = int(input())\n",
    "base = int(input())\n",
    "\n",
    "# Calculate approximate power using logarithm\n",
    "power = math.log(num, base)\n",
    "\n",
    "# Round to the nearest integer\n",
    "rounded_power = round(power)\n",
    "\n",
    "# Check if base^rounded_power equals num\n",
    "if base ** rounded_power == num:\n",
    "    print(f\"{num} is {base} to the power of {rounded_power}\")\n",
    "else:\n",
    "    print(f\"{num} is NOT a power of {base}\")"
   ]
  },
  {
   "cell_type": "markdown",
   "id": "ca0f1209",
   "metadata": {},
   "source": [
    "### 22) Turn 2-D list into 1-D"
   ]
  },
  {
   "cell_type": "code",
   "execution_count": null,
   "id": "bd8de7f7",
   "metadata": {},
   "outputs": [],
   "source": [
    "lst = [[1,2,5],\n",
    "       [3,4]]\n",
    "ans = []\n",
    "for i in lst:\n",
    "    for j in i:\n",
    "        ans.append(j)\n",
    "ans"
   ]
  },
  {
   "cell_type": "markdown",
   "id": "07b88507",
   "metadata": {},
   "source": [
    "### 23) Find all duplicates in a list"
   ]
  },
  {
   "cell_type": "code",
   "execution_count": 76,
   "id": "a1ff5d6b",
   "metadata": {},
   "outputs": [
    {
     "data": {
      "text/plain": [
       "{1, 2}"
      ]
     },
     "execution_count": 76,
     "metadata": {},
     "output_type": "execute_result"
    }
   ],
   "source": [
    "lst = [1, 2, 3, 2, 4, 1]\n",
    "dup = set()\n",
    "ans = set()\n",
    "for i in lst:\n",
    "    if i in ans:\n",
    "        dup.add(i)\n",
    "    else:\n",
    "        ans.add(i)\n",
    "dup"
   ]
  },
  {
   "cell_type": "code",
   "execution_count": 91,
   "id": "576a0c69",
   "metadata": {},
   "outputs": [
    {
     "data": {
      "text/plain": [
       "[2, 3, 5, 8, 5, 2, 3, 2, 8, 5, 3]"
      ]
     },
     "execution_count": 91,
     "metadata": {},
     "output_type": "execute_result"
    }
   ],
   "source": [
    "lst = [2,3,4,5,7,9,8,5,6,2,10,3,2,8,5,3]\n",
    "lt = []\n",
    "for i in lst:\n",
    "    if lst.count(i)>1:\n",
    "        lt.append(i)\n",
    "lt"
   ]
  },
  {
   "cell_type": "markdown",
   "id": "d8c5da39",
   "metadata": {},
   "source": [
    "### 24) Count frequency of each character in a string"
   ]
  },
  {
   "cell_type": "code",
   "execution_count": 80,
   "id": "0f675775",
   "metadata": {},
   "outputs": [
    {
     "name": "stdout",
     "output_type": "stream",
     "text": [
      "{'P': 1, 'r': 2, 'i': 1, 'y': 1, 'a': 3, 'n': 1, 's': 1, 'h': 2, 'u': 3, ' ': 2, 'K': 1, 'm': 1, 'S': 1}\n"
     ]
    }
   ],
   "source": [
    "def count_it(s):\n",
    "    ans = {}\n",
    "    for i in s:\n",
    "        ans[i] = s.count(i)\n",
    "    return ans\n",
    "\n",
    "test = \"Priyanshu Kumar Sahu\"\n",
    "see_ans = count_it(test)\n",
    "print(see_ans)"
   ]
  },
  {
   "cell_type": "markdown",
   "id": "7e9b1bf1",
   "metadata": {},
   "source": [
    "### Any operation\n",
    "    ex: 2+3 or 6//2 any other arithmetic operation"
   ]
  },
  {
   "cell_type": "code",
   "execution_count": 81,
   "id": "aeb81a46",
   "metadata": {},
   "outputs": [
    {
     "data": {
      "text/plain": [
       "3"
      ]
     },
     "execution_count": 81,
     "metadata": {},
     "output_type": "execute_result"
    }
   ],
   "source": [
    "int(eval(input(\"enter\")))"
   ]
  },
  {
   "cell_type": "markdown",
   "id": "e9f19c43",
   "metadata": {},
   "source": [
    "### 25) List Comprehension & Filtering: Write a Python function filter_even_numbers(numbers) that takes a list of integers as input and returns a new list containing only the even numbers from the original list, using a list comprehension."
   ]
  },
  {
   "cell_type": "code",
   "execution_count": 83,
   "id": "556eb3e8",
   "metadata": {},
   "outputs": [
    {
     "data": {
      "text/plain": [
       "[2, 4, 6, 8]"
      ]
     },
     "execution_count": 83,
     "metadata": {},
     "output_type": "execute_result"
    }
   ],
   "source": [
    "def lst(lt):\n",
    "    new_lt = [i for i in lt if i%2==0]\n",
    "    return new_lt\n",
    "\n",
    "lt = [1,3,5,7,9,2,4,6,8]\n",
    "new = lst(lt)\n",
    "new"
   ]
  },
  {
   "cell_type": "markdown",
   "id": "a1f6e083",
   "metadata": {},
   "source": [
    "### 26) Dictionary Manipulation & Basic Aggregation: Create a function calculate_average_score(student_scores) that takes a dictionary where keys are student names (strings) and values are their scores (integers). The function should return the average score of all students."
   ]
  },
  {
   "cell_type": "code",
   "execution_count": 85,
   "id": "0e0baa46",
   "metadata": {},
   "outputs": [
    {
     "data": {
      "text/plain": [
       "89.0"
      ]
     },
     "execution_count": 85,
     "metadata": {},
     "output_type": "execute_result"
    }
   ],
   "source": [
    "def avg(dt):\n",
    "    count = 0\n",
    "    total = 0\n",
    "    for i in dt:\n",
    "        total += dt[i]\n",
    "        count = count+1\n",
    "    return (total/count)\n",
    "\n",
    "dt1 = dict([(\"Priyanshu\",88),(\"Krish\",89),(\"GK\",80),(\"Vinayak\",96),(\"Shashank\",83),(\"Aman\",98)])\n",
    "avg = avg(dt1)\n",
    "avg"
   ]
  },
  {
   "cell_type": "markdown",
   "id": "d2c894d3",
   "metadata": {},
   "source": [
    "### 27) Function with Multiple Return Values & Data Types: Write a function analyze_string(text) that takes a string as input. It should return two values: the number of vowels (a, e, i, o, u, case-insensitive) and the number of consonants in the string. Ignore spaces and punctuation."
   ]
  },
  {
   "cell_type": "code",
   "execution_count": 86,
   "id": "efd3c71f",
   "metadata": {},
   "outputs": [
    {
     "name": "stdout",
     "output_type": "stream",
     "text": [
      "your enter words : wehfwih ih fe\n",
      "total vowels : 4 and total consonants : 9\n"
     ]
    }
   ],
   "source": [
    "def ct(string):\n",
    "    new_str = \"aeiou\"\n",
    "    count_alpha = 0\n",
    "    count_cons = 0\n",
    "    for i in string.strip().lower():\n",
    "        if i in new_str:\n",
    "            count_alpha += 1\n",
    "        else:\n",
    "            count_cons += 1\n",
    "    return count_alpha,count_cons\n",
    "\n",
    "str = input(\"enter words\\n\")\n",
    "count = ct(str)\n",
    "print(f\"your enter words : {str}\")\n",
    "print(f\"total vowels : {count[0]} and total consonants : {count[-1]}\")"
   ]
  },
  {
   "cell_type": "markdown",
   "id": "57cf181c",
   "metadata": {},
   "source": [
    "### 28) Tuple Unpacking & Swapping: Write a function swap_values(a, b) that takes two arguments and returns them with their values swapped, using tuple unpacking."
   ]
  },
  {
   "cell_type": "code",
   "execution_count": 87,
   "id": "18d907ea",
   "metadata": {},
   "outputs": [
    {
     "name": "stdout",
     "output_type": "stream",
     "text": [
      "before swapping : (2, 3)\n",
      "after swapping : (3, 2)\n"
     ]
    }
   ],
   "source": [
    "def swap(t1):\n",
    "    a,b = t1\n",
    "    print(f\"before swapping : {a,b}\")\n",
    "    a,b = b,a\n",
    "    print(f\"after swapping : {a,b}\")\n",
    "    \n",
    "swap((2,3))"
   ]
  },
  {
   "cell_type": "markdown",
   "id": "08d4a8a4",
   "metadata": {},
   "source": [
    "### 29) Set Operations & Unique Elements: Create a function find_common_elements(list1, list2) that takes two lists as input. It should return a new list containing only the elements that are common to both input lists, utilizing set operations."
   ]
  },
  {
   "cell_type": "code",
   "execution_count": 88,
   "id": "464c13a8",
   "metadata": {},
   "outputs": [
    {
     "data": {
      "text/plain": [
       "[2, 3, 4, 5, 6, 7]"
      ]
     },
     "execution_count": 88,
     "metadata": {},
     "output_type": "execute_result"
    }
   ],
   "source": [
    "def uni(lt1,lt2):\n",
    "    lt1 = set(lt1)\n",
    "    lt2 = set(lt2)\n",
    "    new = list(lt1.intersection(lt2))\n",
    "    return new\n",
    "\n",
    "lt1 = [2,3,4,5,6,7,8,9]\n",
    "lt2 = [1,3,4,3,2,5,6,7]\n",
    "new_list = uni(lt1,lt2)\n",
    "new_list"
   ]
  },
  {
   "cell_type": "markdown",
   "id": "18d8f7c6",
   "metadata": {},
   "source": [
    "### 30) List input (pre defined). Sum of all the numbers except the numbers that are divisible by 3."
   ]
  },
  {
   "cell_type": "code",
   "execution_count": 90,
   "id": "02287d60",
   "metadata": {},
   "outputs": [
    {
     "data": {
      "text/plain": [
       "13"
      ]
     },
     "execution_count": 90,
     "metadata": {},
     "output_type": "execute_result"
    }
   ],
   "source": [
    "lst=[4,9,2,15,6,7]\n",
    "ans = [i for i in lst if i%3!=0]\n",
    "sum(ans)"
   ]
  },
  {
   "cell_type": "markdown",
   "id": "2da2539b",
   "metadata": {},
   "source": [
    "### 31) Print all indices where number 5 is found in the list."
   ]
  },
  {
   "cell_type": "code",
   "execution_count": 92,
   "id": "7905929e",
   "metadata": {},
   "outputs": [
    {
     "name": "stdout",
     "output_type": "stream",
     "text": [
      "3 7 14 "
     ]
    }
   ],
   "source": [
    "lst = [2,3,4,5,7,9,8,5,6,2,10,3,2,8,5,3]\n",
    "for i in range(len(lst)):\n",
    "    if lst[i]==5:\n",
    "        print(i,end=' ')        "
   ]
  },
  {
   "cell_type": "markdown",
   "id": "810bc090",
   "metadata": {},
   "source": [
    "### 32) Write a program to count the number of even and odd numbers in a list."
   ]
  },
  {
   "cell_type": "code",
   "execution_count": 95,
   "id": "d8bf3923",
   "metadata": {},
   "outputs": [
    {
     "name": "stdout",
     "output_type": "stream",
     "text": [
      "total even no. in given list is 6 and total odd no. in list is 5\n"
     ]
    }
   ],
   "source": [
    "def odd_even(lt):\n",
    "    count_odd = 0\n",
    "    count_even = 0\n",
    "    for i in lt:\n",
    "        if i%2==0:\n",
    "            count_even += 1\n",
    "        else:\n",
    "            count_odd += 1\n",
    "    return count_even,count_odd\n",
    "\n",
    "lst = [2,3,4,5,7,9,8,5,6,2,10]\n",
    "store = odd_even(lst)\n",
    "print(f\"total even no. in given list is {store[0]} and total odd no. in list is {store[-1]}\")"
   ]
  },
  {
   "cell_type": "markdown",
   "id": "c88a966d",
   "metadata": {},
   "source": [
    "Count how many times the number 3 appears in the list."
   ]
  },
  {
   "cell_type": "code",
   "execution_count": 96,
   "id": "2f6b45c6",
   "metadata": {},
   "outputs": [
    {
     "data": {
      "text/plain": [
       "3"
      ]
     },
     "execution_count": 96,
     "metadata": {},
     "output_type": "execute_result"
    }
   ],
   "source": [
    "lst = [2,3,4,5,7,9,8,5,6,2,10,3,2,8,5,3]\n",
    "lst.count(3)"
   ]
  },
  {
   "cell_type": "markdown",
   "id": "ec26a8d5",
   "metadata": {},
   "source": [
    "### 33) Check if a list is sorted in ascending order."
   ]
  },
  {
   "cell_type": "code",
   "execution_count": 98,
   "id": "e466071b",
   "metadata": {},
   "outputs": [
    {
     "data": {
      "text/plain": [
       "(False, True)"
      ]
     },
     "execution_count": 98,
     "metadata": {},
     "output_type": "execute_result"
    }
   ],
   "source": [
    "lst = [2,3,4,5,7,9,8,5,6,2,10,3,2,8,5,3]\n",
    "\n",
    "def check(lt):\n",
    "    bool  = True\n",
    "    for i in range(0,len(lt)-1):\n",
    "        if(lst[i+1]<i):\n",
    "            bool = False\n",
    "            break\n",
    "    return bool\n",
    "\n",
    "lt2 = [32,36,78,96,421]        \n",
    "\n",
    "check(lst),check(lt2)"
   ]
  },
  {
   "cell_type": "markdown",
   "id": "33018a21",
   "metadata": {},
   "source": [
    "### 34) List Manipulation - Removing Duplicates (Order Preserving):\n",
    "Write a function remove_duplicates_preserve_order(input_list) that takes a list as input and returns a new list with all duplicate elements removed, while preserving the original order of the remaining unique elements."
   ]
  },
  {
   "cell_type": "code",
   "execution_count": 99,
   "id": "0e504c92",
   "metadata": {},
   "outputs": [
    {
     "data": {
      "text/plain": [
       "[2, 3, 4, 67, 45, 34, 8, 9, 6]"
      ]
     },
     "execution_count": 99,
     "metadata": {},
     "output_type": "execute_result"
    }
   ],
   "source": [
    "def remove_duplicates_preserve_order(input_list):\n",
    "    new_lt = []\n",
    "    for i in input_list:\n",
    "        if i not in new_lt:\n",
    "            new_lt.append(i)\n",
    "    return new_lt\n",
    "\n",
    "ex = remove_duplicates_preserve_order([2,3,4,2,67,45,34,67,45,3,2,8,9,6])\n",
    "ex"
   ]
  },
  {
   "cell_type": "markdown",
   "id": "2ff67637",
   "metadata": {},
   "source": [
    "### 35) Nested Data Structures - Accessing Data:\n",
    "Given a list of dictionaries, where each dictionary represents an item with 'name' (string) and 'price' (float) keys. Write a function get_total_price(items_list) that calculates and returns the sum of all prices.\n",
    "Example: items = [{'name': 'Laptop', 'price': 1200.00}, {'name': 'Mouse', 'price': 25.50}]\n",
    "\n"
   ]
  },
  {
   "cell_type": "code",
   "execution_count": 100,
   "id": "1db0a047",
   "metadata": {},
   "outputs": [
    {
     "data": {
      "text/plain": [
       "1225.5"
      ]
     },
     "execution_count": 100,
     "metadata": {},
     "output_type": "execute_result"
    }
   ],
   "source": [
    "items = [{'name': 'Laptop', 'price': 1200.00}, {'name': 'Mouse', 'price': 25.50}]\n",
    "\n",
    "def get_total_price(items_list):\n",
    "    total = 0\n",
    "    for i in items:\n",
    "        for j in i:\n",
    "            if(j=='price'):\n",
    "                total = total+i[j]\n",
    "    return total\n",
    "            \n",
    "total = get_total_price(items)\n",
    "total"
   ]
  },
  {
   "cell_type": "markdown",
   "id": "8db3a488",
   "metadata": {},
   "source": [
    "### 36) Given a list of integers, create a new list where each element is the integer average of the first i elements of the original list, for i from 1 to the length of the list.\n",
    "    Let's compute it step by step:\n",
    "ex: lt = [4,1,7,3,10]\n",
    "\n",
    "j = 1: avg of [4] → 4\n",
    "\n",
    "j = 2: avg of [4, 1] → (4+1)//2 = 2\n",
    "\n",
    "j = 3: avg of [4, 1, 7] → (4+1+7)//3 = 4\n",
    "\n",
    "j = 4: avg of [4, 1, 7, 3] → 15//4 = 3\n",
    "\n",
    "j = 5: avg of [4, 1, 7, 3, 10] → 25//5 = 5"
   ]
  },
  {
   "cell_type": "code",
   "execution_count": 105,
   "id": "626d2353",
   "metadata": {},
   "outputs": [
    {
     "data": {
      "text/plain": [
       "[4, 2, 4, 3, 5]"
      ]
     },
     "execution_count": 105,
     "metadata": {},
     "output_type": "execute_result"
    }
   ],
   "source": [
    "lt = [4,1,7,3,10]\n",
    "total = 0\n",
    "lt1 = []\n",
    "j = 1\n",
    "le = len(lt)\n",
    "\n",
    "while True:\n",
    "    for i in range(j):\n",
    "        total += lt[i]\n",
    "    lt1.append(total // j)\n",
    "    total = 0\n",
    "    j = j + 1\n",
    "    if j == le + 1:\n",
    "        break\n",
    "\n",
    "lt1"
   ]
  },
  {
   "cell_type": "markdown",
   "id": "e3796d16",
   "metadata": {},
   "source": [
    "### 37) Write a program to compute the running integer average of elements in a list. For each element, calculate the average of all elements from the start of the list up to that index.\""
   ]
  },
  {
   "cell_type": "code",
   "execution_count": 106,
   "id": "c5d3dbcd",
   "metadata": {},
   "outputs": [
    {
     "name": "stdout",
     "output_type": "stream",
     "text": [
      "[4, 2, 4, 3, 5]\n"
     ]
    }
   ],
   "source": [
    "n = [4, 1, 7, 3, 10]\n",
    "l2 = []\n",
    "sum = 0\n",
    "\n",
    "for i in range(len(n)):\n",
    "    sum += n[i]\n",
    "    avg = sum // (i + 1)\n",
    "    l2.append(avg)\n",
    "\n",
    "print(l2)"
   ]
  }
 ],
 "metadata": {
  "kernelspec": {
   "display_name": "Python 3",
   "language": "python",
   "name": "python3"
  },
  "language_info": {
   "codemirror_mode": {
    "name": "ipython",
    "version": 3
   },
   "file_extension": ".py",
   "mimetype": "text/x-python",
   "name": "python",
   "nbconvert_exporter": "python",
   "pygments_lexer": "ipython3",
   "version": "3.13.5"
  }
 },
 "nbformat": 4,
 "nbformat_minor": 5
}
