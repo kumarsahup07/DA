{
 "cells": [
  {
   "cell_type": "code",
   "execution_count": 46,
   "id": "6a60bbfa",
   "metadata": {},
   "outputs": [],
   "source": [
    "import numpy as np"
   ]
  },
  {
   "cell_type": "markdown",
   "id": "16532769",
   "metadata": {},
   "source": [
    "### ⚡ Why is NumPy Faster Than Lists?\n",
    "\n",
    "NumPy arrays are stored at **one continuous block of memory**, unlike Python lists which store elements at **scattered memory locations**.\n",
    "\n",
    "This enables:\n",
    "\n",
    "- **Efficient memory access**\n",
    "- **Faster processing and computation**\n",
    "\n",
    "This behavior is known as **locality of reference** in computer science.\n",
    "\n",
    "---\n",
    "\n",
    "### 🧠 Key Reasons for NumPy's Speed:\n",
    "\n",
    "- 🧱 **Contiguous memory layout** (vs. scattered memory in lists)\n",
    "- 🚀 **Optimized C and Fortran backend**\n",
    "- 🔄 **Vectorized operations** (no need for Python loops)\n",
    "- 🧠 **Better use of CPU cache and registers**\n",
    "- ⚙️ **Takes advantage of modern CPU architectures**\n",
    "\n",
    "---\n",
    "\n",
    "✅ **Conclusion**:  \n",
    "NumPy is faster than lists primarily because of its **low-level memory efficiency** and **hardware-level optimizations**.\n"
   ]
  },
  {
   "cell_type": "markdown",
   "id": "79daa5a3",
   "metadata": {},
   "source": [
    "---"
   ]
  },
  {
   "cell_type": "markdown",
   "id": "c20c0a66",
   "metadata": {},
   "source": [
    "## 1> Check Number of Dimensions?\n",
    "\n",
    "NumPy Arrays provides the ndim attribute that returns an integer that tells us how many dimensions the array have."
   ]
  },
  {
   "cell_type": "code",
   "execution_count": 47,
   "id": "4f661603",
   "metadata": {},
   "outputs": [
    {
     "name": "stdout",
     "output_type": "stream",
     "text": [
      "0\n",
      "1\n",
      "2\n",
      "3\n"
     ]
    }
   ],
   "source": [
    "a = np.array(42)\n",
    "b = np.array([1, 2, 3, 4, 5])\n",
    "c = np.array([[1, 2, 3], [4, 5, 6]])\n",
    "d = np.array([[[1, 2, 3], [4, 5, 6]], [[1, 2, 3], [4, 5, 6]]])\n",
    "\n",
    "print(a.ndim)\n",
    "print(b.ndim)\n",
    "print(c.ndim)\n",
    "print(d.ndim)"
   ]
  },
  {
   "cell_type": "markdown",
   "id": "f42671fb",
   "metadata": {},
   "source": [
    "When the array is created, you can define the number of dimensions by using the **ndmin** argument."
   ]
  },
  {
   "cell_type": "code",
   "execution_count": 48,
   "id": "8d228dfa",
   "metadata": {},
   "outputs": [
    {
     "name": "stdout",
     "output_type": "stream",
     "text": [
      "[[[[[1 2 3 4]]]]]\n",
      "number of dimensions : 5\n"
     ]
    },
    {
     "data": {
      "text/plain": [
       "np.int64(1)"
      ]
     },
     "execution_count": 48,
     "metadata": {},
     "output_type": "execute_result"
    }
   ],
   "source": [
    "# Create an array with 5 dimensions and verify that it has 5 dimensions:\n",
    "\n",
    "arr = np.array([1, 2, 3, 4], ndmin=5)\n",
    "print(arr)\n",
    "print('number of dimensions :', arr.ndim)\n",
    "arr[0,0,0,0,0]"
   ]
  },
  {
   "cell_type": "markdown",
   "id": "fbed7566",
   "metadata": {},
   "source": [
    "---"
   ]
  },
  {
   "cell_type": "markdown",
   "id": "22630af1",
   "metadata": {},
   "source": [
    "## 2> NumPy Array Indexing"
   ]
  },
  {
   "cell_type": "code",
   "execution_count": 49,
   "id": "66d30b55",
   "metadata": {},
   "outputs": [
    {
     "name": "stdout",
     "output_type": "stream",
     "text": [
      "7\n"
     ]
    }
   ],
   "source": [
    "# Get third and fourth elements from the following array and add them.\n",
    "arr = np.array([1, 2, 3, 4])\n",
    "print(arr[2] + arr[3])"
   ]
  },
  {
   "cell_type": "code",
   "execution_count": 50,
   "id": "c7106639",
   "metadata": {},
   "outputs": [
    {
     "name": "stdout",
     "output_type": "stream",
     "text": [
      "2nd element on 1st row:  2\n"
     ]
    }
   ],
   "source": [
    "# Access the element on the first row, second column:\n",
    "arr = np.array([[1,2,3,4,5],\n",
    "                [6,7,8,9,10]])\n",
    "print('2nd element on 1st row: ', arr[0, 1])"
   ]
  },
  {
   "cell_type": "code",
   "execution_count": 51,
   "id": "7e957b5f",
   "metadata": {},
   "outputs": [
    {
     "name": "stdout",
     "output_type": "stream",
     "text": [
      "5th element on 2nd row:  10\n"
     ]
    }
   ],
   "source": [
    "# Access the element on the 2nd row, 5th column:\n",
    "arr = np.array([[1,2,3,4,5],\n",
    "                [6,7,8,9,10]])\n",
    "print('5th element on 2nd row: ', arr[1, 4])"
   ]
  },
  {
   "cell_type": "code",
   "execution_count": 52,
   "id": "51507912",
   "metadata": {},
   "outputs": [
    {
     "name": "stdout",
     "output_type": "stream",
     "text": [
      "6\n"
     ]
    }
   ],
   "source": [
    "# Access the third element of the second array of the first array:\n",
    "arr = np.array([[[1, 2, 3], [4, 5, 6]],\n",
    "                [[7, 8, 9], [10, 11, 12]]])\n",
    "\n",
    "print(arr[0, 1, 2])"
   ]
  },
  {
   "cell_type": "code",
   "execution_count": 53,
   "id": "2d63ca21",
   "metadata": {},
   "outputs": [
    {
     "name": "stdout",
     "output_type": "stream",
     "text": [
      "Last element from 2nd dim:  10\n"
     ]
    }
   ],
   "source": [
    "# Print the last element from the 2nd dim:\n",
    "arr = np.array([[1,2,3,4,5],\n",
    "                [6,7,8,9,10]])\n",
    "\n",
    "print('Last element from 2nd dim: ', arr[1, -1])"
   ]
  },
  {
   "cell_type": "markdown",
   "id": "a7167aa8",
   "metadata": {},
   "source": [
    "---"
   ]
  },
  {
   "cell_type": "markdown",
   "id": "548fa6e8",
   "metadata": {},
   "source": [
    "## 3> 🔪 Slicing in NumPy"
   ]
  },
  {
   "cell_type": "markdown",
   "id": "d38e50f3",
   "metadata": {},
   "source": [
    "In NumPy, we can extract parts of an array using slicing. Instead of passing a single index, we use the syntax:\n",
    "\n",
    "[start:end]\n",
    "\n",
    "We can also define a step value using:\n",
    "\n",
    "[start:end:step]\n",
    "\n",
    "---\n",
    "\n",
    "### 🧠 Slicing Rules:\n",
    "\n",
    "- **start** → starting index (default is 0 if omitted)\n",
    "- **end** → ending index (exclusive; defaults to the length of the array if omitted)\n",
    "- **step** → step size (default is 1 if omitted)\n",
    "\n",
    "Slicing allows efficient access and manipulation of subsets of data in arrays.\n"
   ]
  },
  {
   "cell_type": "code",
   "execution_count": 54,
   "id": "7f9d4244",
   "metadata": {},
   "outputs": [
    {
     "name": "stdout",
     "output_type": "stream",
     "text": [
      "[2 3 4 5]\n"
     ]
    }
   ],
   "source": [
    "# Slice elements from index 1 to index 5 from the following array:\n",
    "arr = np.array([1, 2, 3, 4, 5, 6, 7])\n",
    "print(arr[1:5])"
   ]
  },
  {
   "cell_type": "code",
   "execution_count": 55,
   "id": "8560cb75",
   "metadata": {},
   "outputs": [
    {
     "name": "stdout",
     "output_type": "stream",
     "text": [
      "[5 6 7]\n"
     ]
    }
   ],
   "source": [
    "# Slice elements from index 4 to the end of the array:\n",
    "arr = np.array([1, 2, 3, 4, 5, 6, 7])\n",
    "print(arr[4:])"
   ]
  },
  {
   "cell_type": "code",
   "execution_count": 56,
   "id": "6275c677",
   "metadata": {},
   "outputs": [
    {
     "name": "stdout",
     "output_type": "stream",
     "text": [
      "[1 2 3 4]\n"
     ]
    }
   ],
   "source": [
    "# Slice elements from the beginning to index 4 (not included):\n",
    "arr = np.array([1, 2, 3, 4, 5, 6, 7])\n",
    "print(arr[:4])"
   ]
  },
  {
   "cell_type": "code",
   "execution_count": 57,
   "id": "64ce1ff1",
   "metadata": {},
   "outputs": [
    {
     "name": "stdout",
     "output_type": "stream",
     "text": [
      "[5 6]\n"
     ]
    }
   ],
   "source": [
    "# Slice from the index 3 from the end to index 1 from the end:\n",
    "arr = np.array([1, 2, 3, 4, 5, 6, 7])\n",
    "print(arr[-3:-1])"
   ]
  },
  {
   "cell_type": "code",
   "execution_count": 58,
   "id": "911d04fc",
   "metadata": {},
   "outputs": [
    {
     "name": "stdout",
     "output_type": "stream",
     "text": [
      "[2 4]\n"
     ]
    }
   ],
   "source": [
    "# Return every other element from index 1 to index 5:\n",
    "arr = np.array([1, 2, 3, 4, 5, 6, 7])\n",
    "print(arr[1:5:2])"
   ]
  },
  {
   "cell_type": "code",
   "execution_count": 59,
   "id": "7abd121a",
   "metadata": {},
   "outputs": [
    {
     "name": "stdout",
     "output_type": "stream",
     "text": [
      "[1 3 5 7]\n"
     ]
    }
   ],
   "source": [
    "# Return every other element from the entire array:\n",
    "arr = np.array([1, 2, 3, 4, 5, 6, 7])\n",
    "print(arr[::2])"
   ]
  },
  {
   "cell_type": "code",
   "execution_count": 60,
   "id": "db2a3e34",
   "metadata": {},
   "outputs": [
    {
     "name": "stdout",
     "output_type": "stream",
     "text": [
      "[7 8 9]\n"
     ]
    }
   ],
   "source": [
    "# From the second element, slice elements from index 1 to index 4 (not included):\n",
    "arr = np.array([[1, 2, 3, 4, 5],\n",
    "                [6, 7, 8, 9, 10]])\n",
    "print(arr[1, 1:4])"
   ]
  },
  {
   "cell_type": "code",
   "execution_count": 61,
   "id": "832b8078",
   "metadata": {},
   "outputs": [
    {
     "name": "stdout",
     "output_type": "stream",
     "text": [
      "[3 8]\n"
     ]
    }
   ],
   "source": [
    "# From both elements, return index 2:\n",
    "arr = np.array([[1, 2, 3, 4, 5],\n",
    "                [6, 7, 8, 9, 10]])\n",
    "print(arr[0:2,2])"
   ]
  },
  {
   "cell_type": "code",
   "execution_count": 62,
   "id": "cc00315a",
   "metadata": {},
   "outputs": [
    {
     "name": "stdout",
     "output_type": "stream",
     "text": [
      "[[2 3 4]\n",
      " [7 8 9]]\n"
     ]
    }
   ],
   "source": [
    "# From both elements, slice index 1 to index 4 (not included), this will return a 2-D array:\n",
    "\n",
    "arr = np.array([[1, 2, 3, 4, 5],\n",
    "                [6, 7, 8, 9, 10]])\n",
    "print(arr[0:2, 1:4])"
   ]
  },
  {
   "cell_type": "markdown",
   "id": "5b5882bb",
   "metadata": {},
   "source": [
    "---"
   ]
  },
  {
   "cell_type": "markdown",
   "id": "5909d7b9",
   "metadata": {},
   "source": [
    "## 4> NumPy Data Types"
   ]
  },
  {
   "cell_type": "markdown",
   "id": "5785547a",
   "metadata": {},
   "source": [
    "📊 Data Types in NumPy\n",
    "NumPy has additional data types that are represented using single-character codes. Here's a list of the common data types and their corresponding characters:\n",
    "| Code | Data Type                                 |\n",
    "| ---- | ----------------------------------------- |\n",
    "| `i`  | Integer                                   |\n",
    "| `b`  | Boolean                                   |\n",
    "| `u`  | Unsigned Integer                          |\n",
    "| `f`  | Float                                     |\n",
    "| `c`  | Complex Float                             |\n",
    "| `m`  | Timedelta                                 |\n",
    "| `M`  | Datetime                                  |\n",
    "| `O`  | Object                                    |\n",
    "| `S`  | String (byte string)                      |\n",
    "| `U`  | Unicode String                            |\n",
    "| `V`  | Raw data (Void / Fixed-size memory block) |"
   ]
  },
  {
   "cell_type": "code",
   "execution_count": 63,
   "id": "1f0ab5c5",
   "metadata": {},
   "outputs": [
    {
     "name": "stdout",
     "output_type": "stream",
     "text": [
      "int64\n"
     ]
    }
   ],
   "source": [
    "arr = np.array([1, 2, 3, 4])\n",
    "print(arr.dtype)"
   ]
  },
  {
   "cell_type": "code",
   "execution_count": 64,
   "id": "dbf9160d",
   "metadata": {},
   "outputs": [
    {
     "name": "stdout",
     "output_type": "stream",
     "text": [
      "<U6\n"
     ]
    }
   ],
   "source": [
    "arr = np.array(['apple', 'banana', 'cherry'])\n",
    "print(arr.dtype)"
   ]
  },
  {
   "cell_type": "code",
   "execution_count": 65,
   "id": "c56cdd81",
   "metadata": {},
   "outputs": [
    {
     "name": "stdout",
     "output_type": "stream",
     "text": [
      "[b'1' b'2' b'3' b'4']\n",
      "|S1\n"
     ]
    }
   ],
   "source": [
    "# Create an array with data type string:\n",
    "arr = np.array([1, 2, 3, 4], dtype='S')\n",
    "print(arr)\n",
    "print(arr.dtype)"
   ]
  },
  {
   "cell_type": "markdown",
   "id": "9e201855",
   "metadata": {},
   "source": [
    "For i, u, f, S and U we can define size as well."
   ]
  },
  {
   "cell_type": "code",
   "execution_count": 66,
   "id": "3dd687c7",
   "metadata": {},
   "outputs": [
    {
     "name": "stdout",
     "output_type": "stream",
     "text": [
      "[1 2 3 4]\n",
      "int32\n"
     ]
    }
   ],
   "source": [
    "# Create an array with data type 4 bytes integer:\n",
    "arr = np.array([1, 2, 3, 4], dtype='i4')\n",
    "print(arr)\n",
    "print(arr.dtype)"
   ]
  },
  {
   "cell_type": "code",
   "execution_count": 67,
   "id": "c2743cd8",
   "metadata": {},
   "outputs": [
    {
     "ename": "ValueError",
     "evalue": "invalid literal for int() with base 10: 'a'",
     "output_type": "error",
     "traceback": [
      "\u001b[31m---------------------------------------------------------------------------\u001b[39m",
      "\u001b[31mValueError\u001b[39m                                Traceback (most recent call last)",
      "\u001b[36mCell\u001b[39m\u001b[36m \u001b[39m\u001b[32mIn[67]\u001b[39m\u001b[32m, line 3\u001b[39m\n\u001b[32m      1\u001b[39m \u001b[38;5;66;03m# A non integer string like 'a' can not be converted to integer (will raise an error):\u001b[39;00m\n\u001b[32m----> \u001b[39m\u001b[32m3\u001b[39m arr = \u001b[43mnp\u001b[49m\u001b[43m.\u001b[49m\u001b[43marray\u001b[49m\u001b[43m(\u001b[49m\u001b[43m[\u001b[49m\u001b[33;43m'\u001b[39;49m\u001b[33;43ma\u001b[39;49m\u001b[33;43m'\u001b[39;49m\u001b[43m,\u001b[49m\u001b[43m \u001b[49m\u001b[33;43m'\u001b[39;49m\u001b[33;43m2\u001b[39;49m\u001b[33;43m'\u001b[39;49m\u001b[43m,\u001b[49m\u001b[43m \u001b[49m\u001b[33;43m'\u001b[39;49m\u001b[33;43m3\u001b[39;49m\u001b[33;43m'\u001b[39;49m\u001b[43m]\u001b[49m\u001b[43m,\u001b[49m\u001b[43m \u001b[49m\u001b[43mdtype\u001b[49m\u001b[43m=\u001b[49m\u001b[33;43m'\u001b[39;49m\u001b[33;43mi\u001b[39;49m\u001b[33;43m'\u001b[39;49m\u001b[43m)\u001b[49m\n",
      "\u001b[31mValueError\u001b[39m: invalid literal for int() with base 10: 'a'"
     ]
    }
   ],
   "source": [
    "# A non integer string like 'a' can not be converted to integer (will raise an error):\n",
    "\n",
    "arr = np.array(['a', '2', '3'], dtype='i')"
   ]
  },
  {
   "cell_type": "markdown",
   "id": "20409ec8",
   "metadata": {},
   "source": [
    "🔄 Converting Data Type on Existing Arrays in NumPy\n",
    "The best way to change the data type of an existing NumPy array is by creating a copy using the .astype() method.\n",
    "\n",
    "🧠 What .astype() Does:\n",
    "Creates a new array (original remains unchanged)\n",
    "\n",
    "Allows you to specify the target data type\n",
    "\n",
    "Accepts: \n",
    "String representations (e.g., 'f' for float, 'i' for integer)\n",
    "\n",
    "Python data types (e.g., float, int)"
   ]
  },
  {
   "cell_type": "code",
   "execution_count": null,
   "id": "0cb2a5f0",
   "metadata": {},
   "outputs": [
    {
     "name": "stdout",
     "output_type": "stream",
     "text": [
      "[1 2 3]\n",
      "int32\n"
     ]
    }
   ],
   "source": [
    "# Change data type from float to integer by using 'i' as parameter value:\n",
    "\n",
    "arr = np.array([1.1, 2.1, 3.1])\n",
    "newarr = arr.astype('i')\n",
    "print(newarr)\n",
    "print(newarr.dtype)"
   ]
  },
  {
   "cell_type": "code",
   "execution_count": null,
   "id": "62105ad9",
   "metadata": {},
   "outputs": [
    {
     "name": "stdout",
     "output_type": "stream",
     "text": [
      "[1 2 3]\n",
      "int64\n"
     ]
    }
   ],
   "source": [
    "# Change data type from float to integer by using int as parameter value:\n",
    "arr = np.array([1.1, 2.1, 3.1])\n",
    "newarr = arr.astype(int)\n",
    "print(newarr)\n",
    "print(newarr.dtype)"
   ]
  },
  {
   "cell_type": "code",
   "execution_count": null,
   "id": "41c9aca6",
   "metadata": {},
   "outputs": [
    {
     "name": "stdout",
     "output_type": "stream",
     "text": [
      "[ True False  True]\n",
      "bool\n"
     ]
    }
   ],
   "source": [
    "# Change data type from integer to boolean:\n",
    "arr = np.array([1, 0, 3])\n",
    "newarr = arr.astype(bool)\n",
    "print(newarr)\n",
    "print(newarr.dtype)"
   ]
  },
  {
   "cell_type": "markdown",
   "id": "b8159f67",
   "metadata": {},
   "source": [
    "---"
   ]
  },
  {
   "cell_type": "markdown",
   "id": "3cbe3587",
   "metadata": {},
   "source": [
    "## 5> NumPy Array Copy vs View"
   ]
  },
  {
   "cell_type": "markdown",
   "id": "483e1044",
   "metadata": {},
   "source": [
    "## 🆚 The Difference Between Copy and View in NumPy\n",
    "\n",
    "In NumPy, understanding the difference between a **copy** and a **view** is essential when working with arrays.\n",
    "\n",
    "---\n",
    "\n",
    "### 🧾 **Copy**\n",
    "- A **copy** creates a **new independent array**.\n",
    "- It **owns its own data**.\n",
    "- Changes made to the copy **do not affect** the original array.\n",
    "- Changes to the original array **do not affect** the copy.\n",
    "\n",
    "### 🔹 Key Characteristics\n",
    "- A **view does not own the data**.\n",
    "- Any changes made to the view **will affect** the original array.\n",
    "- Any changes made to the original array **will affect** the view.\n",
    "- Views are **memory efficient** because they avoid data duplication.\n",
    "\n",
    "---\n"
   ]
  },
  {
   "cell_type": "markdown",
   "id": "fc1e7495",
   "metadata": {},
   "source": [
    "The copy SHOULD NOT be affected by the changes made to the original array."
   ]
  },
  {
   "cell_type": "code",
   "execution_count": null,
   "id": "3955a888",
   "metadata": {},
   "outputs": [
    {
     "name": "stdout",
     "output_type": "stream",
     "text": [
      "[42  2  3  4  5]\n",
      "[1 2 3 4 5]\n"
     ]
    }
   ],
   "source": [
    "# Make a copy, change the original array, and display both arrays:\n",
    "\n",
    "arr = np.array([1, 2, 3, 4, 5])\n",
    "x = arr.copy()\n",
    "arr[0] = 42\n",
    "print(arr)\n",
    "print(x)"
   ]
  },
  {
   "cell_type": "markdown",
   "id": "69d018c5",
   "metadata": {},
   "source": [
    "The view SHOULD be affected by the changes made to the original array."
   ]
  },
  {
   "cell_type": "code",
   "execution_count": null,
   "id": "09f6f5da",
   "metadata": {},
   "outputs": [
    {
     "name": "stdout",
     "output_type": "stream",
     "text": [
      "[42  2  3  4  5]\n",
      "[42  2  3  4  5]\n"
     ]
    }
   ],
   "source": [
    "# Make a view, change the original array, and display both arrays:\n",
    "\n",
    "arr = np.array([1, 2, 3, 4, 5])\n",
    "x = arr.view()\n",
    "arr[0] = 42\n",
    "\n",
    "print(arr)\n",
    "print(x)"
   ]
  },
  {
   "cell_type": "markdown",
   "id": "077edd21",
   "metadata": {},
   "source": [
    "The original array SHOULD be affected by the changes made to the view."
   ]
  },
  {
   "cell_type": "code",
   "execution_count": null,
   "id": "3e527723",
   "metadata": {},
   "outputs": [
    {
     "name": "stdout",
     "output_type": "stream",
     "text": [
      "[31  2  3  4  5]\n",
      "[31  2  3  4  5]\n"
     ]
    }
   ],
   "source": [
    "# Make a view, change the view, and display both arrays:\n",
    "\n",
    "arr = np.array([1, 2, 3, 4, 5])\n",
    "x = arr.view()\n",
    "x[0] = 31\n",
    "print(arr)\n",
    "print(x)"
   ]
  },
  {
   "cell_type": "markdown",
   "id": "20149bdf",
   "metadata": {},
   "source": [
    "## 🔍 Check if an Array Owns Its Data in NumPy\n",
    "\n",
    "As mentioned above:\n",
    "\n",
    "- **Copies** own the data.\n",
    "- **Views** do **not** own the data — they refer to the original array's data.\n",
    "\n",
    "---\n",
    "\n",
    "### 🧠 How to Check?\n",
    "\n",
    "Every NumPy array has a `.base` attribute:\n",
    "\n",
    "- Returns `None` → the array **owns** the data.\n",
    "- Returns a reference → the array is a **view**, and the `.base` points to the original array.\n",
    "\n",
    "---"
   ]
  },
  {
   "cell_type": "code",
   "execution_count": null,
   "id": "d01fd3a5",
   "metadata": {},
   "outputs": [
    {
     "name": "stdout",
     "output_type": "stream",
     "text": [
      "None\n",
      "[1 2 3 4 5]\n"
     ]
    }
   ],
   "source": [
    "# Print the value of the base attribute to check if an array owns it's data or not:\n",
    "\n",
    "arr = np.array([1, 2, 3, 4, 5])\n",
    "\n",
    "x = arr.copy()\n",
    "y = arr.view()\n",
    "\n",
    "print(x.base)\n",
    "print(y.base)"
   ]
  },
  {
   "cell_type": "markdown",
   "id": "34bfc0eb",
   "metadata": {},
   "source": [
    "- The copy returns None.\n",
    "- The view returns the original array.\n",
    "---"
   ]
  },
  {
   "cell_type": "markdown",
   "id": "153b65d8",
   "metadata": {},
   "source": [
    "## 6> 📐 What Does the Shape Tuple Represent?"
   ]
  },
  {
   "cell_type": "markdown",
   "id": "f03aa64e",
   "metadata": {},
   "source": [
    "NumPy arrays have an attribute called shape that returns a tuple with each index having the number of corresponding elements.\n",
    "\n",
    "The **shape** tuple in NumPy represents the **dimensions** of an array.\n",
    "\n",
    "Each integer at a given index in the shape tuple indicates the **number of elements** in that corresponding dimension."
   ]
  },
  {
   "cell_type": "code",
   "execution_count": null,
   "id": "4b962a70",
   "metadata": {},
   "outputs": [
    {
     "name": "stdout",
     "output_type": "stream",
     "text": [
      "(2, 4)\n"
     ]
    }
   ],
   "source": [
    "# Print the shape of a 2-D array:\n",
    "\n",
    "arr = np.array([[1, 2, 3, 4],\n",
    "                [5, 6, 7, 8]])\n",
    "\n",
    "print(arr.shape)"
   ]
  },
  {
   "cell_type": "markdown",
   "id": "51443945",
   "metadata": {},
   "source": [
    "The example above returns (2, 4), which means that the array has 2 dimensions, where the first dimension has 2 elements and the second has 4."
   ]
  },
  {
   "cell_type": "code",
   "execution_count": 69,
   "id": "08617387",
   "metadata": {},
   "outputs": [
    {
     "name": "stdout",
     "output_type": "stream",
     "text": [
      "[[[[[1 2 3 4]]]]]\n",
      "shape of array : (1, 1, 1, 1, 4)\n"
     ]
    }
   ],
   "source": [
    "# Create an array with 5 dimensions using ndmin using a vector with values 1,2,3,4 and verify that last dimension has value 4:\n",
    "\n",
    "arr = np.array([1, 2, 3, 4], ndmin=5)\n",
    "\n",
    "print(arr)\n",
    "print('shape of array :', arr.shape)"
   ]
  },
  {
   "cell_type": "markdown",
   "id": "302f1217",
   "metadata": {},
   "source": [
    "For example, if the shape tuple has a value `4` at index `4`, it means the **5th dimension (index + 1)** has **4 elements**.\n",
    "\n",
    "---\n",
    "\n",
    "### 🧠 Summary:\n",
    "- `shape[0]` → size of 1st dimension  \n",
    "- `shape[1]` → size of 2nd dimension  \n",
    "- `...`\n",
    "- `shape[n]` → size of (n+1)th dimension\n",
    "\n",
    "---"
   ]
  },
  {
   "cell_type": "markdown",
   "id": "5ee346a6",
   "metadata": {},
   "source": [
    "## 7> 🔄 Reshaping Arrays\n",
    "\n",
    "**Reshaping** means changing the shape of an array.\n",
    "\n",
    "The **shape** of an array refers to the number of elements in each dimension.\n",
    "\n",
    "By reshaping, we can:\n",
    "- Add or remove dimensions\n",
    "- Change the number of elements in each dimension (as long as the total number of elements remains the same)\n"
   ]
  },
  {
   "cell_type": "code",
   "execution_count": 71,
   "id": "e1f29f10",
   "metadata": {},
   "outputs": [
    {
     "name": "stdout",
     "output_type": "stream",
     "text": [
      "[[ 1  2  3]\n",
      " [ 4  5  6]\n",
      " [ 7  8  9]\n",
      " [10 11 12]]\n"
     ]
    }
   ],
   "source": [
    "# Convert the following 1-D array with 12 elements into a 2-D array.\n",
    "# The outermost dimension will have 4 arrays, each with 3 elements:\n",
    "\n",
    "arr = np.array([1, 2, 3, 4, 5, 6, 7, 8, 9, 10, 11, 12])\n",
    "newarr = arr.reshape(4, 3)\n",
    "print(newarr)"
   ]
  },
  {
   "cell_type": "code",
   "execution_count": 72,
   "id": "746c452e",
   "metadata": {},
   "outputs": [
    {
     "name": "stdout",
     "output_type": "stream",
     "text": [
      "[[[ 1  2]\n",
      "  [ 3  4]\n",
      "  [ 5  6]]\n",
      "\n",
      " [[ 7  8]\n",
      "  [ 9 10]\n",
      "  [11 12]]]\n"
     ]
    }
   ],
   "source": [
    "# Convert the following 1-D array with 12 elements into a 3-D array.\n",
    "# The outermost dimension will have 2 arrays that contains 3 arrays, each with 2 elements:\n",
    "\n",
    "arr = np.array([1, 2, 3, 4, 5, 6, 7, 8, 9, 10, 11, 12])\n",
    "newarr = arr.reshape(2, 3, 2)\n",
    "print(newarr)"
   ]
  },
  {
   "cell_type": "code",
   "execution_count": 73,
   "id": "90de17a6",
   "metadata": {},
   "outputs": [
    {
     "ename": "ValueError",
     "evalue": "cannot reshape array of size 8 into shape (3,3)",
     "output_type": "error",
     "traceback": [
      "\u001b[31m---------------------------------------------------------------------------\u001b[39m",
      "\u001b[31mValueError\u001b[39m                                Traceback (most recent call last)",
      "\u001b[36mCell\u001b[39m\u001b[36m \u001b[39m\u001b[32mIn[73]\u001b[39m\u001b[32m, line 4\u001b[39m\n\u001b[32m      1\u001b[39m \u001b[38;5;66;03m# Try converting 1D array with 8 elements to a 2D array with 3 elements in each dimension (will raise an error):\u001b[39;00m\n\u001b[32m      3\u001b[39m arr = np.array([\u001b[32m1\u001b[39m, \u001b[32m2\u001b[39m, \u001b[32m3\u001b[39m, \u001b[32m4\u001b[39m, \u001b[32m5\u001b[39m, \u001b[32m6\u001b[39m, \u001b[32m7\u001b[39m, \u001b[32m8\u001b[39m])\n\u001b[32m----> \u001b[39m\u001b[32m4\u001b[39m newarr = \u001b[43marr\u001b[49m\u001b[43m.\u001b[49m\u001b[43mreshape\u001b[49m\u001b[43m(\u001b[49m\u001b[32;43m3\u001b[39;49m\u001b[43m,\u001b[49m\u001b[43m \u001b[49m\u001b[32;43m3\u001b[39;49m\u001b[43m)\u001b[49m\n\u001b[32m      5\u001b[39m \u001b[38;5;28mprint\u001b[39m(newarr)\n",
      "\u001b[31mValueError\u001b[39m: cannot reshape array of size 8 into shape (3,3)"
     ]
    }
   ],
   "source": [
    "# Try converting 1D array with 8 elements to a 2D array with 3 elements in each dimension (will raise an error):\n",
    "\n",
    "arr = np.array([1, 2, 3, 4, 5, 6, 7, 8])\n",
    "newarr = arr.reshape(3, 3)\n",
    "print(newarr)"
   ]
  },
  {
   "cell_type": "code",
   "execution_count": 77,
   "id": "12c5fbc9",
   "metadata": {},
   "outputs": [
    {
     "name": "stdout",
     "output_type": "stream",
     "text": [
      "[1 2 3 4 5 6 7 8]\n"
     ]
    }
   ],
   "source": [
    "# Check if the returned array is a copy or a view:\n",
    "\n",
    "arr = np.array([1, 2, 3, 4, 5, 6, 7, 8])\n",
    "print(arr.reshape(2, 4).base)       # This example returns the original array, so it is a view."
   ]
  },
  {
   "cell_type": "markdown",
   "id": "20460bfb",
   "metadata": {},
   "source": [
    "### ❓ Unknown Dimension in NumPy\n",
    "\n",
    "You are allowed to have **one \"unknown\" dimension** when reshaping arrays in NumPy.\n",
    "\n",
    "This means you don't need to specify the exact size for one of the dimensions in the `reshape()` method.\n",
    "\n",
    "Use `-1` as the value for that dimension, and **NumPy will automatically calculate** the correct number based on the array's total size.\n",
    "\n",
    "📝 Note: You can only have **one unknown dimension** per reshape operation.\n"
   ]
  },
  {
   "cell_type": "code",
   "execution_count": 78,
   "id": "fd215685",
   "metadata": {},
   "outputs": [
    {
     "name": "stdout",
     "output_type": "stream",
     "text": [
      "[[[1 2]\n",
      "  [3 4]]\n",
      "\n",
      " [[5 6]\n",
      "  [7 8]]]\n"
     ]
    }
   ],
   "source": [
    "# Convert 1D array with 8 elements to 3D array with 2x2 elements:\n",
    "\n",
    "arr = np.array([1, 2, 3, 4, 5, 6, 7, 8])\n",
    "newarr = arr.reshape(2, 2, -1)\n",
    "print(newarr)"
   ]
  },
  {
   "cell_type": "markdown",
   "id": "c8aa8ce2",
   "metadata": {},
   "source": [
    "Flattening the arrays\n",
    "Flattening array means converting a multidimensional array into a 1D array.\n",
    "\n",
    "We can use reshape(-1) to do this."
   ]
  },
  {
   "cell_type": "code",
   "execution_count": 80,
   "id": "bb247036",
   "metadata": {},
   "outputs": [
    {
     "name": "stdout",
     "output_type": "stream",
     "text": [
      "[1 2 3 4 5 6]\n"
     ]
    }
   ],
   "source": [
    "# Convert the array into a 1D array:\n",
    "\n",
    "arr = np.array([[1, 2, 3], [4, 5, 6]])\n",
    "newarr = arr.reshape(-1)\n",
    "print(newarr)"
   ]
  },
  {
   "cell_type": "markdown",
   "id": "930c9d62",
   "metadata": {},
   "source": [
    "Note: There are a lot of functions for changing the shapes of arrays in numpy flatten, ravel and also for rearranging the elements rot90, flip, fliplr, flipud etc.\n",
    "\n",
    "These fall under Intermediate to Advanced section of numpy.\n",
    "\n",
    "---"
   ]
  }
 ],
 "metadata": {
  "kernelspec": {
   "display_name": "Python 3",
   "language": "python",
   "name": "python3"
  },
  "language_info": {
   "codemirror_mode": {
    "name": "ipython",
    "version": 3
   },
   "file_extension": ".py",
   "mimetype": "text/x-python",
   "name": "python",
   "nbconvert_exporter": "python",
   "pygments_lexer": "ipython3",
   "version": "3.13.5"
  }
 },
 "nbformat": 4,
 "nbformat_minor": 5
}
