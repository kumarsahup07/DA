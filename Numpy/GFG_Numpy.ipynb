{
 "cells": [
  {
   "cell_type": "markdown",
   "id": "696a8c57",
   "metadata": {},
   "source": [
    "# Getting started with Numpy"
   ]
  },
  {
   "cell_type": "code",
   "execution_count": 1,
   "id": "e1ba584e",
   "metadata": {},
   "outputs": [
    {
     "name": "stdout",
     "output_type": "stream",
     "text": [
      "[2, 3, 4, 5]\n",
      "<class 'list'>\n",
      "\n",
      "[2 3 4 5]\n",
      "<class 'numpy.ndarray'>\n"
     ]
    }
   ],
   "source": [
    "import numpy as np\n",
    "\n",
    "l=[2,3,4,5]\n",
    "print(l)\n",
    "print(type(l))\n",
    "print()\n",
    "arr=np.array(l)\n",
    "print(arr)\n",
    "print(type(arr))"
   ]
  },
  {
   "cell_type": "code",
   "execution_count": 2,
   "id": "e687e2bc",
   "metadata": {},
   "outputs": [
    {
     "name": "stdout",
     "output_type": "stream",
     "text": [
      "1\n",
      "2\n"
     ]
    }
   ],
   "source": [
    "a=np.array([1,2,3,4])\n",
    "b=np.array([[1,2,3,4],[5,6,7,8]])\n",
    "print(a.ndim)\n",
    "print(b.ndim)"
   ]
  },
  {
   "cell_type": "code",
   "execution_count": 3,
   "id": "269ad39f",
   "metadata": {},
   "outputs": [
    {
     "name": "stdout",
     "output_type": "stream",
     "text": [
      "(2, 4)\n",
      "8\n",
      "int64\n"
     ]
    }
   ],
   "source": [
    "b=np.array([[1,2,3,4],[5,6,7,8]])\n",
    "print(b.shape)\n",
    "print(b.size)\n",
    "print(b.dtype)"
   ]
  },
  {
   "cell_type": "code",
   "execution_count": 4,
   "id": "d15383df",
   "metadata": {},
   "outputs": [
    {
     "name": "stdout",
     "output_type": "stream",
     "text": [
      "Matrix b : \n",
      " [0 0]\n",
      "\n",
      "Matrix a : \n",
      " [[0 0]\n",
      " [0 0]]\n",
      "\n",
      "Matrix c : \n",
      " [[0. 0. 0.]\n",
      " [0. 0. 0.]\n",
      " [0. 0. 0.]]\n"
     ]
    }
   ],
   "source": [
    "# Python Program illustrating\n",
    "# numpy.zeros method\n",
    " \n",
    "import numpy as geek\n",
    " \n",
    "b = geek.zeros(2, dtype = int)\n",
    "print(\"Matrix b : \\n\", b)\n",
    " \n",
    "a = geek.zeros([2, 2], dtype = int)\n",
    "print(\"\\nMatrix a : \\n\", a)\n",
    " \n",
    "c = geek.zeros([3, 3])\n",
    "print(\"\\nMatrix c : \\n\", c)"
   ]
  },
  {
   "cell_type": "code",
   "execution_count": 5,
   "id": "0c197f50",
   "metadata": {},
   "outputs": [
    {
     "name": "stdout",
     "output_type": "stream",
     "text": [
      "Matrix b : \n",
      " [1 1]\n",
      "\n",
      "Matrix a : \n",
      " [[1 1]\n",
      " [1 1]]\n",
      "\n",
      "Matrix c : \n",
      " [[1. 1. 1.]\n",
      " [1. 1. 1.]\n",
      " [1. 1. 1.]]\n"
     ]
    }
   ],
   "source": [
    "# Python Program illustrating\n",
    "# numpy.ones method\n",
    " \n",
    "import numpy as geek\n",
    " \n",
    "b = geek.ones(2, dtype = int)\n",
    "print(\"Matrix b : \\n\", b)\n",
    " \n",
    "a = geek.ones([2, 2], dtype = int)\n",
    "print(\"\\nMatrix a : \\n\", a)\n",
    " \n",
    "c = geek.ones([3, 3])\n",
    "print(\"\\nMatrix c : \\n\", c)"
   ]
  },
  {
   "cell_type": "markdown",
   "id": "05abe304",
   "metadata": {},
   "source": [
    "# Reshape and Random Number Generator\n",
    "\n"
   ]
  },
  {
   "cell_type": "code",
   "execution_count": 6,
   "id": "4f31c358",
   "metadata": {},
   "outputs": [
    {
     "name": "stdout",
     "output_type": "stream",
     "text": [
      "Output 1D Array filled with random floats :  [0.95291505 0.4236675  0.24503565]\n"
     ]
    }
   ],
   "source": [
    "# Python program explaining\n",
    "# numpy.random.random() function\n",
    "  \n",
    "# importing numpy\n",
    "import numpy as geek\n",
    "  \n",
    "  \n",
    "# output array\n",
    "out_arr = geek.random.random(3)\n",
    "print (\"Output 1D Array filled with random floats : \", out_arr)"
   ]
  },
  {
   "cell_type": "code",
   "execution_count": 7,
   "id": "8783f4e3",
   "metadata": {},
   "outputs": [
    {
     "name": "stdout",
     "output_type": "stream",
     "text": [
      "A\n",
      " [[0 1]\n",
      " [2 3]] \n",
      "\n",
      "A\n",
      " [4 5 6 7 8 9] \n",
      "\n",
      "A\n",
      " [ 4  7 10 13 16 19] \n",
      "\n"
     ]
    }
   ],
   "source": [
    "# Python Programming illustrating\n",
    "# numpy.arange method\n",
    " \n",
    "import numpy as geek\n",
    " \n",
    "print(\"A\\n\", geek.arange(4).reshape(2, 2), \"\\n\")\n",
    "print(\"A\\n\", geek.arange(4, 10), \"\\n\")\n",
    "print(\"A\\n\", geek.arange(4, 20, 3), \"\\n\")"
   ]
  },
  {
   "cell_type": "code",
   "execution_count": 8,
   "id": "291da91b",
   "metadata": {},
   "outputs": [
    {
     "name": "stdout",
     "output_type": "stream",
     "text": [
      "B\n",
      " (array([2.  , 2.25, 2.5 , 2.75, 3.  ]), np.float64(0.25)) \n",
      "\n",
      "A\n",
      " [0.         0.22039774 0.42995636 0.6183698  0.77637192 0.8961922\n",
      " 0.9719379  0.99988386 0.9786557  0.90929743]\n"
     ]
    }
   ],
   "source": [
    "# Python Programming illustrating\n",
    "# numpy.linspace method\n",
    " \n",
    "import numpy as geek\n",
    " \n",
    "# restep set to True\n",
    "print(\"B\\n\", geek.linspace(2.0, 3.0, num=5, retstep=True), \"\\n\")\n",
    " \n",
    "# To evaluate sin() in long range\n",
    "x = geek.linspace(0, 2, 10)\n",
    "print(\"A\\n\", geek.sin(x))"
   ]
  },
  {
   "cell_type": "code",
   "execution_count": 9,
   "id": "11366b7c",
   "metadata": {},
   "outputs": [
    {
     "name": "stdout",
     "output_type": "stream",
     "text": [
      "Original array : \n",
      " [0 1 2 3 4 5 6 7]\n",
      "\n",
      "array reshaped with 2 rows and 4 columns : \n",
      " [[0 1 2 3]\n",
      " [4 5 6 7]]\n",
      "\n",
      "array reshaped with 4 rows and 2 columns : \n",
      " [[0 1]\n",
      " [2 3]\n",
      " [4 5]\n",
      " [6 7]]\n",
      "\n",
      "Original array reshaped to 3D : \n",
      " [[[0 1]\n",
      "  [2 3]]\n",
      "\n",
      " [[4 5]\n",
      "  [6 7]]]\n"
     ]
    }
   ],
   "source": [
    "# Python Program illustrating\n",
    "# numpy.reshape() method\n",
    " \n",
    "import numpy as geek\n",
    " \n",
    "# array = geek.arrange(8)\n",
    "# The 'numpy' module has no attribute 'arrange'\n",
    "array1 = geek.arange(8)\n",
    "print(\"Original array : \\n\", array1)\n",
    " \n",
    "# shape array with 2 rows and 4 columns\n",
    "array2 = geek.arange(8).reshape(2, 4)\n",
    "print(\"\\narray reshaped with 2 rows and 4 columns : \\n\",\n",
    "      array2)\n",
    " \n",
    "# shape array with 4 rows and 2 columns\n",
    "array3 = geek.arange(8).reshape(4, 2)\n",
    "print(\"\\narray reshaped with 4 rows and 2 columns : \\n\",\n",
    "      array3)\n",
    " \n",
    "# Constructs 3D array\n",
    "array4 = geek.arange(8).reshape(2, 2, 2)\n",
    "print(\"\\nOriginal array reshaped to 3D : \\n\",\n",
    "      array4)"
   ]
  },
  {
   "cell_type": "markdown",
   "id": "c520bd54",
   "metadata": {},
   "source": [
    "# Arithmetic Operations on Array"
   ]
  },
  {
   "cell_type": "markdown",
   "id": "98cedf68",
   "metadata": {},
   "source": [
    "addition"
   ]
  },
  {
   "cell_type": "code",
   "execution_count": 10,
   "id": "a48fbc0d",
   "metadata": {},
   "outputs": [
    {
     "name": "stdout",
     "output_type": "stream",
     "text": [
      "[  7  77  23 130]\n",
      "[  7  77  23 130]\n",
      "[  8  79  26 134]\n",
      "[  7  77  23 130]\n"
     ]
    }
   ],
   "source": [
    "import numpy as np\n",
    " \n",
    "# Defining both the matrices\n",
    "a = np.array([5, 72, 13, 100])\n",
    "b = np.array([2, 5, 10, 30])\n",
    " \n",
    "# Performing addition using arithmetic operator\n",
    "add_ans = a+b\n",
    "print(add_ans)\n",
    " \n",
    "# Performing addition using numpy function\n",
    "add_ans = np.add(a, b)\n",
    "print(add_ans)\n",
    " \n",
    "# The same functions and operations can be used for multiple matrices\n",
    "c = np.array([1, 2, 3, 4])\n",
    "add_ans = a+b+c\n",
    "print(add_ans)\n",
    " \n",
    "add_ans = np.add(a, b, c)\n",
    "print(add_ans)"
   ]
  },
  {
   "cell_type": "markdown",
   "id": "3139bd12",
   "metadata": {},
   "source": [
    "subtraction"
   ]
  },
  {
   "cell_type": "code",
   "execution_count": 11,
   "id": "222866d6",
   "metadata": {},
   "outputs": [
    {
     "name": "stdout",
     "output_type": "stream",
     "text": [
      "[ 3 67  3 70]\n",
      "[ 3 67  3 70]\n"
     ]
    }
   ],
   "source": [
    "import numpy as np\n",
    " \n",
    "# Defining both the matrices\n",
    "a = np.array([5, 72, 13, 100])\n",
    "b = np.array([2, 5, 10, 30])\n",
    " \n",
    "# Performing subtraction using arithmetic operator\n",
    "sub_ans = a-b\n",
    "print(sub_ans)\n",
    " \n",
    "# Performing subtraction using numpy function\n",
    "sub_ans = np.subtract(a, b)\n",
    "print(sub_ans)"
   ]
  },
  {
   "cell_type": "markdown",
   "id": "65384005",
   "metadata": {},
   "source": [
    "Multiplication"
   ]
  },
  {
   "cell_type": "code",
   "execution_count": 12,
   "id": "c05610da",
   "metadata": {},
   "outputs": [
    {
     "name": "stdout",
     "output_type": "stream",
     "text": [
      "[  10  360  130 3000]\n",
      "[  10  360  130 3000]\n"
     ]
    }
   ],
   "source": [
    "import numpy as np\n",
    " \n",
    "# Defining both the matrices\n",
    "a = np.array([5, 72, 13, 100])\n",
    "b = np.array([2, 5, 10, 30])\n",
    " \n",
    "# Performing multiplication using arithmetic operator\n",
    "mul_ans = a*b\n",
    "print(mul_ans)\n",
    " \n",
    "# Performing multiplication using numpy function\n",
    "mul_ans = np.multiply(a, b)\n",
    "print(mul_ans)"
   ]
  },
  {
   "cell_type": "markdown",
   "id": "e30b78f6",
   "metadata": {},
   "source": [
    "# Division"
   ]
  },
  {
   "cell_type": "code",
   "execution_count": 13,
   "id": "20967cd7",
   "metadata": {},
   "outputs": [
    {
     "name": "stdout",
     "output_type": "stream",
     "text": [
      "[ 2.5        14.4         1.3         3.33333333]\n",
      "[ 2.5        14.4         1.3         3.33333333]\n"
     ]
    }
   ],
   "source": [
    "import numpy as np\n",
    " \n",
    "# Defining both the matrices\n",
    "a = np.array([5, 72, 13, 100])\n",
    "b = np.array([2, 5, 10, 30])\n",
    " \n",
    "# Performing division using arithmetic operators\n",
    "div_ans = a/b\n",
    "print(div_ans)\n",
    " \n",
    "# Performing division using numpy functions\n",
    "div_ans = np.divide(a, b)\n",
    "print(div_ans)"
   ]
  },
  {
   "cell_type": "code",
   "execution_count": 14,
   "id": "6c8822ee",
   "metadata": {},
   "outputs": [
    {
     "name": "stdout",
     "output_type": "stream",
     "text": [
      "maximum element in the array is:  8\n",
      "minimum element in the array is:  1\n"
     ]
    }
   ],
   "source": [
    "# import numpy library\n",
    "import numpy\n",
    " \n",
    "# creating a numpy array of integers\n",
    "arr = numpy.array([1, 5, 4, 8, 3, 7])\n",
    " \n",
    "# finding the maximum and\n",
    "# minimum element in the array\n",
    "max_element = numpy.max(arr)\n",
    "min_element = numpy.min(arr)\n",
    " \n",
    "# printing the result\n",
    "print('maximum element in the array is: ',\n",
    "      max_element)\n",
    "print('minimum element in the array is: ',\n",
    "      min_element)"
   ]
  },
  {
   "cell_type": "code",
   "execution_count": 15,
   "id": "65dc962b",
   "metadata": {},
   "outputs": [
    {
     "name": "stdout",
     "output_type": "stream",
     "text": [
      "maximum element in the array is: 81\n",
      "minimum element in the array is: 2\n"
     ]
    }
   ],
   "source": [
    "# import numpy library\n",
    "import numpy\n",
    " \n",
    "# creating a two dimensional\n",
    "# numpy array of integers\n",
    "arr = numpy.array([[11, 2, 3],\n",
    "                     [4, 5, 16],\n",
    "                      [7, 81, 22]])\n",
    " \n",
    "# finding the maximum and\n",
    "# minimum element in the array\n",
    "max_element = numpy.max(arr)\n",
    "min_element = numpy.min(arr)\n",
    " \n",
    "# printing the result\n",
    "print('maximum element in the array is:',\n",
    "      max_element)\n",
    "print('minimum element in the array is:',\n",
    "      min_element)"
   ]
  },
  {
   "cell_type": "code",
   "execution_count": 16,
   "id": "7712bb1c",
   "metadata": {},
   "outputs": [
    {
     "name": "stdout",
     "output_type": "stream",
     "text": [
      "maximum elements in the columns of the array is: [11 81 22]\n",
      "maximum elements in the rows of the array is: [11 16 81]\n",
      "minimum elements in the columns of the array is: [4 2 3]\n",
      "minimum elements in the rows of the array is: [2 4 7]\n"
     ]
    }
   ],
   "source": [
    "# import numpy library\n",
    "import numpy\n",
    " \n",
    "# creating a two dimensional\n",
    "# numpy array of integers\n",
    "arr = numpy.array([[11, 2, 3],\n",
    "                     [4, 5, 16],\n",
    "                      [7, 81, 22]])\n",
    " \n",
    "# finding the maximum and\n",
    "# minimum element in the array\n",
    "max_element_column = numpy.max(arr, 0)\n",
    "max_element_row = numpy.max(arr, 1)\n",
    " \n",
    "min_element_column = numpy.amin(arr, 0)\n",
    "min_element_row = numpy.amin(arr, 1)\n",
    " \n",
    "# printing the result\n",
    "print('maximum elements in the columns of the array is:',\n",
    "      max_element_column)\n",
    " \n",
    "print('maximum elements in the rows of the array is:',\n",
    "      max_element_row)\n",
    " \n",
    "print('minimum elements in the columns of the array is:',\n",
    "      min_element_column)\n",
    " \n",
    "print('minimum elements in the rows of the array is:',\n",
    "      min_element_row)"
   ]
  },
  {
   "cell_type": "markdown",
   "id": "a3e8a9f1",
   "metadata": {},
   "source": [
    "# Array Sorting"
   ]
  },
  {
   "cell_type": "code",
   "execution_count": 17,
   "id": "1bff0375",
   "metadata": {},
   "outputs": [
    {
     "name": "stdout",
     "output_type": "stream",
     "text": [
      "Along first axis : \n",
      " [[10  1]\n",
      " [12 15]]\n",
      "\n",
      "Along first axis : \n",
      " [[10 15]\n",
      " [ 1 12]]\n",
      "\n",
      "Along none axis : \n",
      " [ 1 10 12 15]\n"
     ]
    }
   ],
   "source": [
    "import numpy as np\n",
    " \n",
    "# sort along the first axis\n",
    "a = np.array([[12, 15],\n",
    "              [10, 1]])\n",
    "arr1 = np.sort(a, axis = 0)       \n",
    "print (\"Along first axis : \\n\", arr1)       \n",
    " \n",
    " \n",
    "# sort along the last axis\n",
    "a = np.array([[10, 15],\n",
    "              [12, 1]])\n",
    "arr2 = np.sort(a, axis = -1)       \n",
    "print (\"\\nAlong first axis : \\n\", arr2)\n",
    " \n",
    " \n",
    "a = np.array([[12, 15],\n",
    "              [10, 1]])\n",
    "arr1 = np.sort(a, axis = None)       \n",
    "print (\"\\nAlong none axis : \\n\", arr1)"
   ]
  },
  {
   "cell_type": "code",
   "execution_count": 18,
   "id": "f646938c",
   "metadata": {},
   "outputs": [
    {
     "name": "stdout",
     "output_type": "stream",
     "text": [
      "[[5 2 2 3 1]\n",
      " [7 3 8 6 4]\n",
      " [7 4 9 8 6]]\n",
      "\n",
      "[[3 4 6 7 8]\n",
      " [2 6 7 8 9]\n",
      " [1 2 3 4 5]]\n",
      "\n",
      "[[3 4 6 7 8]\n",
      " [2 6 7 8 9]\n",
      " [1 2 3 4 5]]\n"
     ]
    }
   ],
   "source": [
    "arr = np.array([[7,3,8,6,4], [7,2,9,8,6],[5,4,2,3,1]])\n",
    "print(np.sort(arr , axis = 0, kind = 'mergesort'))\n",
    "print()\n",
    "print(np.sort(arr , axis = 1, kind = 'quicksort'))\n",
    "print()\n",
    "print(np.sort(arr , kind = 'heapsort'))"
   ]
  },
  {
   "cell_type": "markdown",
   "id": "33289922",
   "metadata": {},
   "source": [
    "# Array Merging"
   ]
  },
  {
   "cell_type": "code",
   "execution_count": 19,
   "id": "ec605997",
   "metadata": {},
   "outputs": [
    {
     "name": "stdout",
     "output_type": "stream",
     "text": [
      "1st Input array : \n",
      " [1 2 3]\n",
      "2nd Input array : \n",
      " [4 5 6]\n",
      "Output vertically stacked array:\n",
      "  [[1 2 3]\n",
      " [4 5 6]]\n"
     ]
    }
   ],
   "source": [
    "# Python program explaining\n",
    "# vstack() function\n",
    "  \n",
    "import numpy as geek\n",
    "  \n",
    "# input array\n",
    "in_arr1 = geek.array([ 1, 2, 3] )\n",
    "print (\"1st Input array : \\n\", in_arr1) \n",
    "  \n",
    "in_arr2 = geek.array([ 4, 5, 6] )\n",
    "print (\"2nd Input array : \\n\", in_arr2) \n",
    "  \n",
    "# Stacking the two arrays vertically\n",
    "out_arr = geek.vstack((in_arr1, in_arr2))\n",
    "print (\"Output vertically stacked array:\\n \", out_arr)"
   ]
  },
  {
   "cell_type": "code",
   "execution_count": 20,
   "id": "9a97a742",
   "metadata": {},
   "outputs": [
    {
     "name": "stdout",
     "output_type": "stream",
     "text": [
      "1st Input array : \n",
      " [[ 1  2  3]\n",
      " [-1 -2 -3]]\n",
      "2nd Input array : \n",
      " [[ 4  5  6]\n",
      " [-4 -5 -6]]\n",
      "Output stacked array :\n",
      "  [[ 1  2  3]\n",
      " [-1 -2 -3]\n",
      " [ 4  5  6]\n",
      " [-4 -5 -6]]\n"
     ]
    }
   ],
   "source": [
    "# Python program explaining\n",
    "# vstack() function\n",
    "  \n",
    "import numpy as geek\n",
    "  \n",
    "# input array\n",
    "in_arr1 = geek.array([[ 1, 2, 3], [ -1, -2, -3]] )\n",
    "print (\"1st Input array : \\n\", in_arr1) \n",
    "  \n",
    "in_arr2 = geek.array([[ 4, 5, 6], [ -4, -5, -6]] )\n",
    "print (\"2nd Input array : \\n\", in_arr2) \n",
    "  \n",
    "# Stacking the two arrays vertically\n",
    "out_arr = geek.vstack((in_arr1, in_arr2))\n",
    "print (\"Output stacked array :\\n \", out_arr)"
   ]
  },
  {
   "cell_type": "code",
   "execution_count": 21,
   "id": "87f20d40",
   "metadata": {},
   "outputs": [
    {
     "name": "stdout",
     "output_type": "stream",
     "text": [
      "1st Input array : \n",
      " [1 2 3]\n",
      "2nd Input array : \n",
      " [4 5 6]\n",
      "Output horizontally stacked array:\n",
      "  [1 2 3 4 5 6]\n"
     ]
    }
   ],
   "source": [
    "# Python program explaining\n",
    "# hstack() function\n",
    "  \n",
    "import numpy as geek\n",
    "  \n",
    "# input array\n",
    "in_arr1 = geek.array([ 1, 2, 3] )\n",
    "print (\"1st Input array : \\n\", in_arr1) \n",
    "  \n",
    "in_arr2 = geek.array([ 4, 5, 6] )\n",
    "print (\"2nd Input array : \\n\", in_arr2) \n",
    "  \n",
    "# Stacking the two arrays horizontally\n",
    "out_arr = geek.hstack((in_arr1, in_arr2))\n",
    "print (\"Output horizontally stacked array:\\n \", out_arr)"
   ]
  },
  {
   "cell_type": "code",
   "execution_count": 22,
   "id": "671df1fa",
   "metadata": {},
   "outputs": [
    {
     "name": "stdout",
     "output_type": "stream",
     "text": [
      "1st Input array : \n",
      " [[ 1  2  3]\n",
      " [-1 -2 -3]]\n",
      "2nd Input array : \n",
      " [[ 4  5  6]\n",
      " [-4 -5 -6]]\n",
      "Output stacked array :\n",
      "  [[ 1  2  3  4  5  6]\n",
      " [-1 -2 -3 -4 -5 -6]]\n"
     ]
    }
   ],
   "source": [
    "# Python program explaining\n",
    "# hstack() function\n",
    "  \n",
    "import numpy as geek\n",
    "  \n",
    "# input array\n",
    "in_arr1 = geek.array([[ 1, 2, 3], [ -1, -2, -3]] )\n",
    "print (\"1st Input array : \\n\", in_arr1) \n",
    "  \n",
    "in_arr2 = geek.array([[ 4, 5, 6], [ -4, -5, -6]] )\n",
    "print (\"2nd Input array : \\n\", in_arr2) \n",
    "  \n",
    "# Stacking the two arrays horizontally\n",
    "out_arr = geek.hstack((in_arr1, in_arr2))\n",
    "print (\"Output stacked array :\\n \", out_arr)"
   ]
  },
  {
   "cell_type": "code",
   "execution_count": 23,
   "id": "9f33dfd5",
   "metadata": {},
   "outputs": [
    {
     "name": "stdout",
     "output_type": "stream",
     "text": [
      "[[2 4]\n",
      " [6 8]\n",
      " [3 5]\n",
      " [7 9]]\n"
     ]
    }
   ],
   "source": [
    "# Python program explaining\n",
    "# numpy.concatenate() function\n",
    "  \n",
    "# importing numpy as geek \n",
    "import numpy as geek\n",
    "  \n",
    "arr1 = geek.array([[2, 4],\n",
    "                   [6, 8]])\n",
    "\n",
    "arr2 = geek.array([[3, 5],\n",
    "                   [7, 9]])\n",
    "  \n",
    "gfg = geek.concatenate((arr1, arr2), axis = 0)\n",
    "# gfg = geek.concatenate((arr1, arr2), axis = 1)\n",
    "  \n",
    "print (gfg)"
   ]
  },
  {
   "cell_type": "code",
   "execution_count": 24,
   "id": "19c16e85",
   "metadata": {},
   "outputs": [
    {
     "name": "stdout",
     "output_type": "stream",
     "text": [
      "[array([[0., 1., 2.],\n",
      "       [3., 4., 5.],\n",
      "       [6., 7., 8.]])]\n"
     ]
    }
   ],
   "source": [
    "# Python program explaining\n",
    "# numpy.vsplit() function\n",
    "  \n",
    "# importing numpy as geek \n",
    "import numpy as geek\n",
    "  \n",
    "arr = geek.arange(9.0).reshape(3, 3)\n",
    "  \n",
    "gfg = geek.vsplit(arr, 1)\n",
    "  \n",
    "print (gfg)"
   ]
  },
  {
   "cell_type": "code",
   "execution_count": 25,
   "id": "479dcb26",
   "metadata": {},
   "outputs": [
    {
     "name": "stdout",
     "output_type": "stream",
     "text": [
      "[array([[ 0.,  1.],\n",
      "       [ 4.,  5.],\n",
      "       [ 8.,  9.],\n",
      "       [12., 13.]]), array([[ 2.,  3.],\n",
      "       [ 6.,  7.],\n",
      "       [10., 11.],\n",
      "       [14., 15.]])]\n"
     ]
    }
   ],
   "source": [
    "# Python program explaining\n",
    "# numpy.hsplit() function\n",
    "  \n",
    "# importing numpy as geek \n",
    "import numpy as geek\n",
    "  \n",
    "arr = geek.arange(16.0).reshape(4, 4)\n",
    "  \n",
    "gfg = geek.hsplit(arr, 2)\n",
    "  \n",
    "print (gfg)"
   ]
  },
  {
   "cell_type": "markdown",
   "id": "c5197b6c",
   "metadata": {},
   "source": [
    "# Arrays Slicing - DAP"
   ]
  },
  {
   "cell_type": "code",
   "execution_count": 26,
   "id": "7a55232b",
   "metadata": {},
   "outputs": [
    {
     "data": {
      "text/plain": [
       "array([4, 5, 6, 7, 8])"
      ]
     },
     "execution_count": 26,
     "metadata": {},
     "output_type": "execute_result"
    }
   ],
   "source": [
    "import numpy as np\n",
    "arr = np.array([1,2,3,4,5,6,7,8])\n",
    "arr[3: ]"
   ]
  },
  {
   "cell_type": "code",
   "execution_count": 27,
   "id": "893953ad",
   "metadata": {},
   "outputs": [
    {
     "name": "stdout",
     "output_type": "stream",
     "text": [
      "[1 2 3 4 5]\n",
      "[4 5]\n"
     ]
    }
   ],
   "source": [
    "print(arr[ : -3])\n",
    "print(arr[3  :  -3])"
   ]
  },
  {
   "cell_type": "code",
   "execution_count": 28,
   "id": "2b13bc2d",
   "metadata": {},
   "outputs": [
    {
     "data": {
      "text/plain": [
       "array([[1, 2, 3, 4],\n",
       "       [5, 6, 7, 8],\n",
       "       [8, 7, 6, 5],\n",
       "       [4, 3, 2, 1]])"
      ]
     },
     "execution_count": 28,
     "metadata": {},
     "output_type": "execute_result"
    }
   ],
   "source": [
    "arr = np.array([[1,2,3,4],[5,6,7,8],[8,7,6,5],[4,3,2,1]])\n",
    "arr"
   ]
  },
  {
   "cell_type": "code",
   "execution_count": 29,
   "id": "9b7ce9c2",
   "metadata": {},
   "outputs": [
    {
     "name": "stdout",
     "output_type": "stream",
     "text": [
      "3\n",
      "\n",
      "[[6 7 8]\n",
      " [7 6 5]\n",
      " [3 2 1]]\n"
     ]
    }
   ],
   "source": [
    "print(arr[ 3 , 1])\n",
    "print()\n",
    "print(arr[ 1: , 1:])"
   ]
  },
  {
   "cell_type": "markdown",
   "id": "ffb8b498",
   "metadata": {},
   "source": [
    "# Automating using Numpy"
   ]
  },
  {
   "cell_type": "code",
   "execution_count": 30,
   "id": "150ea4dd",
   "metadata": {},
   "outputs": [
    {
     "name": "stdout",
     "output_type": "stream",
     "text": [
      "6\n",
      "7\n",
      "8\n",
      "9\n",
      "10\n"
     ]
    }
   ],
   "source": [
    "lst = [1,2,3,4,5,6,7,8,9,10]\n",
    "for i in lst:\n",
    "  if (i > 5):\n",
    "    print(i)"
   ]
  },
  {
   "cell_type": "code",
   "execution_count": 31,
   "id": "0a814ab3",
   "metadata": {},
   "outputs": [
    {
     "name": "stdout",
     "output_type": "stream",
     "text": [
      "[ 6  7  8  9 10]\n",
      "[array([False, False, False, False, False,  True,  True,  True,  True,\n",
      "        True])]\n"
     ]
    }
   ],
   "source": [
    "lst = np.array((1,2,3,4,5,6,7,8,9,10))\n",
    "# lst = np.array([1,2,3,4,5,6,7,8,9,10])\n",
    "print(lst[lst>5]) #in a single line we have done the same thing which we did previously and this time without using the for loop\n",
    "print([lst>5]) #in a single line we have done the same thing which we did previously and this time without using the for loop"
   ]
  },
  {
   "cell_type": "code",
   "execution_count": 32,
   "id": "8699a83c",
   "metadata": {},
   "outputs": [
    {
     "data": {
      "text/plain": [
       "list[array([ 1,  2,  3,  4,  5,  6,  7,  8,  9, 10])]"
      ]
     },
     "execution_count": 32,
     "metadata": {},
     "output_type": "execute_result"
    }
   ],
   "source": [
    "list[lst]"
   ]
  },
  {
   "cell_type": "code",
   "execution_count": 33,
   "id": "de01b9f7",
   "metadata": {},
   "outputs": [
    {
     "name": "stdout",
     "output_type": "stream",
     "text": [
      "144\n"
     ]
    }
   ],
   "source": [
    "# not matrix multiplication\n",
    "c = np.array([6, 7, 5, 8])\n",
    "d = np.array([4, 3, 7, 8])\n",
    "pro = c.dot(d)  \n",
    "print(pro)"
   ]
  },
  {
   "cell_type": "code",
   "execution_count": 34,
   "id": "0453418a",
   "metadata": {},
   "outputs": [
    {
     "data": {
      "text/plain": [
       "array([ 1,  2,  3,  4,  5,  6,  7,  8,  9, 10])"
      ]
     },
     "execution_count": 34,
     "metadata": {},
     "output_type": "execute_result"
    }
   ],
   "source": [
    "lst.transpose()\n"
   ]
  },
  {
   "cell_type": "code",
   "execution_count": 35,
   "id": "941ab4a0",
   "metadata": {},
   "outputs": [
    {
     "name": "stdout",
     "output_type": "stream",
     "text": [
      "[[1 5]\n",
      " [2 6]\n",
      " [3 7]\n",
      " [4 8]]\n"
     ]
    }
   ],
   "source": [
    "import numpy as np\n",
    "array_1 = np.array([1, 2, 3, 4])\n",
    "array_2 = np.array([5, 6, 7, 8])\n",
    "array_new = np.stack((array_1, array_2), axis=1)\n",
    "print(array_new)\n"
   ]
  },
  {
   "cell_type": "code",
   "execution_count": 36,
   "id": "996bfe19",
   "metadata": {},
   "outputs": [
    {
     "data": {
      "text/plain": [
       "array([[1, 2, 5],\n",
       "       [3, 4, 6]])"
      ]
     },
     "execution_count": 36,
     "metadata": {},
     "output_type": "execute_result"
    }
   ],
   "source": [
    "a = np.array([[1, 2], [3, 4]])\n",
    "b = np.array([[5, 6]])\n",
    "np.concatenate((a, b.T), axis=1)"
   ]
  },
  {
   "cell_type": "code",
   "execution_count": 41,
   "id": "37a61623",
   "metadata": {},
   "outputs": [
    {
     "name": "stdout",
     "output_type": "stream",
     "text": [
      "[[ 1  2  3  4  5  6  7  8  9 10]\n",
      " [20 30 40 50 60  9  8  7  6  5]]\n"
     ]
    }
   ],
   "source": [
    "import numpy\n",
    "array1 = numpy.array([[1, 2, 3, 4, 5],[20,30,40,50,60]])\n",
    "array2 = numpy.array([[6, 7, 8, 9, 10],[9,8,7,6,5]])\n",
    "array1 = numpy.column_stack([array1, array2])\n",
    "print(array1)"
   ]
  }
 ],
 "metadata": {
  "kernelspec": {
   "display_name": "Python 3",
   "language": "python",
   "name": "python3"
  },
  "language_info": {
   "codemirror_mode": {
    "name": "ipython",
    "version": 3
   },
   "file_extension": ".py",
   "mimetype": "text/x-python",
   "name": "python",
   "nbconvert_exporter": "python",
   "pygments_lexer": "ipython3",
   "version": "3.13.3"
  }
 },
 "nbformat": 4,
 "nbformat_minor": 5
}
