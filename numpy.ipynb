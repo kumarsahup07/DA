{
 "cells": [
  {
   "cell_type": "code",
   "execution_count": 27,
   "metadata": {},
   "outputs": [
    {
     "name": "stdout",
     "output_type": "stream",
     "text": [
      "list1 + list 2 = :  [10, 20, 30, 30, 10, 20]\n",
      "list1 * 2 = :  [10, 20, 30, 10, 20, 30]\n"
     ]
    }
   ],
   "source": [
    "# Find the output of the below python program:\n",
    "\n",
    "list1 = [10,20,30]\n",
    "list2 = [30,10,20]\n",
    " \n",
    "print(\"list1 + list 2 = : \", list1 + list2)   #statement 1\n",
    " \n",
    "print( \"list1 * 2 = : \", list1 * 2 ) #statement 2"
   ]
  },
  {
   "cell_type": "markdown",
   "metadata": {},
   "source": [
    "Explanation\n",
    "\n",
    "When addition(+) operator uses list as its operands then the two lists will get concatenated. And when a list id multiplied with a constant k>=0 then the same list is appended k times in the original list."
   ]
  },
  {
   "cell_type": "markdown",
   "metadata": {},
   "source": [
    "array are compatible faster than list"
   ]
  },
  {
   "cell_type": "code",
   "execution_count": 1,
   "metadata": {},
   "outputs": [],
   "source": [
    "import numpy as np"
   ]
  },
  {
   "cell_type": "code",
   "execution_count": 2,
   "metadata": {},
   "outputs": [
    {
     "data": {
      "text/plain": [
       "array([[99.,  9., 10.],\n",
       "       [45.,  5.,  6.],\n",
       "       [33., 44., 55.]])"
      ]
     },
     "execution_count": 2,
     "metadata": {},
     "output_type": "execute_result"
    }
   ],
   "source": [
    "B = np.array([(7.8, 9, 10)\n",
    "              ,(45, 5, 6)\n",
    "              ,(33,44,55)])\n",
    "B[0][0]=99\n",
    "B"
   ]
  },
  {
   "cell_type": "code",
   "execution_count": 3,
   "metadata": {},
   "outputs": [
    {
     "data": {
      "text/plain": [
       "array([[99. +0.j,  4. +0.j,  5. +0.j],\n",
       "       [ 6.9+0.j,  7. +8.j,  8. +0.j]])"
      ]
     },
     "execution_count": 3,
     "metadata": {},
     "output_type": "execute_result"
    }
   ],
   "source": [
    "A = np.array([[3,4,5],\n",
    "             [6.9,7+8j,8]])\n",
    "A[0][0]=99\n",
    "A"
   ]
  },
  {
   "cell_type": "markdown",
   "metadata": {},
   "source": [
    "# 2.1 Numpy array creation and its attributes"
   ]
  },
  {
   "cell_type": "code",
   "execution_count": 4,
   "metadata": {},
   "outputs": [
    {
     "data": {
      "text/plain": [
       "['False_',\n",
       " 'ScalarType',\n",
       " 'True_',\n",
       " '_CopyMode',\n",
       " '_NoValue',\n",
       " '__NUMPY_SETUP__',\n",
       " '__all__',\n",
       " '__array_api_version__',\n",
       " '__array_namespace_info__',\n",
       " '__builtins__',\n",
       " '__cached__',\n",
       " '__config__',\n",
       " '__dir__',\n",
       " '__doc__',\n",
       " '__expired_attributes__',\n",
       " '__file__',\n",
       " '__former_attrs__',\n",
       " '__future_scalars__',\n",
       " '__getattr__',\n",
       " '__loader__',\n",
       " '__name__',\n",
       " '__numpy_submodules__',\n",
       " '__package__',\n",
       " '__path__',\n",
       " '__spec__',\n",
       " '__version__',\n",
       " '_array_api_info',\n",
       " '_core',\n",
       " '_distributor_init',\n",
       " '_expired_attrs_2_0',\n",
       " '_globals',\n",
       " '_int_extended_msg',\n",
       " '_mat',\n",
       " '_msg',\n",
       " '_pyinstaller_hooks_dir',\n",
       " '_pytesttester',\n",
       " '_specific_msg',\n",
       " '_type_info',\n",
       " '_typing',\n",
       " '_utils',\n",
       " 'abs',\n",
       " 'absolute',\n",
       " 'acos',\n",
       " 'acosh',\n",
       " 'add',\n",
       " 'all',\n",
       " 'allclose',\n",
       " 'amax',\n",
       " 'amin',\n",
       " 'angle',\n",
       " 'any',\n",
       " 'append',\n",
       " 'apply_along_axis',\n",
       " 'apply_over_axes',\n",
       " 'arange',\n",
       " 'arccos',\n",
       " 'arccosh',\n",
       " 'arcsin',\n",
       " 'arcsinh',\n",
       " 'arctan',\n",
       " 'arctan2',\n",
       " 'arctanh',\n",
       " 'argmax',\n",
       " 'argmin',\n",
       " 'argpartition',\n",
       " 'argsort',\n",
       " 'argwhere',\n",
       " 'around',\n",
       " 'array',\n",
       " 'array2string',\n",
       " 'array_equal',\n",
       " 'array_equiv',\n",
       " 'array_repr',\n",
       " 'array_split',\n",
       " 'array_str',\n",
       " 'asanyarray',\n",
       " 'asarray',\n",
       " 'asarray_chkfinite',\n",
       " 'ascontiguousarray',\n",
       " 'asfortranarray',\n",
       " 'asin',\n",
       " 'asinh',\n",
       " 'asmatrix',\n",
       " 'astype',\n",
       " 'atan',\n",
       " 'atan2',\n",
       " 'atanh',\n",
       " 'atleast_1d',\n",
       " 'atleast_2d',\n",
       " 'atleast_3d',\n",
       " 'average',\n",
       " 'bartlett',\n",
       " 'base_repr',\n",
       " 'binary_repr',\n",
       " 'bincount',\n",
       " 'bitwise_and',\n",
       " 'bitwise_count',\n",
       " 'bitwise_invert',\n",
       " 'bitwise_left_shift',\n",
       " 'bitwise_not',\n",
       " 'bitwise_or',\n",
       " 'bitwise_right_shift',\n",
       " 'bitwise_xor',\n",
       " 'blackman',\n",
       " 'block',\n",
       " 'bmat',\n",
       " 'bool',\n",
       " 'bool_',\n",
       " 'broadcast',\n",
       " 'broadcast_arrays',\n",
       " 'broadcast_shapes',\n",
       " 'broadcast_to',\n",
       " 'busday_count',\n",
       " 'busday_offset',\n",
       " 'busdaycalendar',\n",
       " 'byte',\n",
       " 'bytes_',\n",
       " 'c_',\n",
       " 'can_cast',\n",
       " 'cbrt',\n",
       " 'cdouble',\n",
       " 'ceil',\n",
       " 'char',\n",
       " 'character',\n",
       " 'choose',\n",
       " 'clip',\n",
       " 'clongdouble',\n",
       " 'column_stack',\n",
       " 'common_type',\n",
       " 'complex128',\n",
       " 'complex64',\n",
       " 'complexfloating',\n",
       " 'compress',\n",
       " 'concat',\n",
       " 'concatenate',\n",
       " 'conj',\n",
       " 'conjugate',\n",
       " 'convolve',\n",
       " 'copy',\n",
       " 'copysign',\n",
       " 'copyto',\n",
       " 'core',\n",
       " 'corrcoef',\n",
       " 'correlate',\n",
       " 'cos',\n",
       " 'cosh',\n",
       " 'count_nonzero',\n",
       " 'cov',\n",
       " 'cross',\n",
       " 'csingle',\n",
       " 'ctypeslib',\n",
       " 'cumprod',\n",
       " 'cumsum',\n",
       " 'cumulative_prod',\n",
       " 'cumulative_sum',\n",
       " 'datetime64',\n",
       " 'datetime_as_string',\n",
       " 'datetime_data',\n",
       " 'deg2rad',\n",
       " 'degrees',\n",
       " 'delete',\n",
       " 'diag',\n",
       " 'diag_indices',\n",
       " 'diag_indices_from',\n",
       " 'diagflat',\n",
       " 'diagonal',\n",
       " 'diff',\n",
       " 'digitize',\n",
       " 'divide',\n",
       " 'divmod',\n",
       " 'dot',\n",
       " 'double',\n",
       " 'dsplit',\n",
       " 'dstack',\n",
       " 'dtype',\n",
       " 'dtypes',\n",
       " 'e',\n",
       " 'ediff1d',\n",
       " 'einsum',\n",
       " 'einsum_path',\n",
       " 'emath',\n",
       " 'empty',\n",
       " 'empty_like',\n",
       " 'equal',\n",
       " 'errstate',\n",
       " 'euler_gamma',\n",
       " 'exceptions',\n",
       " 'exp',\n",
       " 'exp2',\n",
       " 'expand_dims',\n",
       " 'expm1',\n",
       " 'extract',\n",
       " 'eye',\n",
       " 'f2py',\n",
       " 'fabs',\n",
       " 'fft',\n",
       " 'fill_diagonal',\n",
       " 'finfo',\n",
       " 'fix',\n",
       " 'flatiter',\n",
       " 'flatnonzero',\n",
       " 'flexible',\n",
       " 'flip',\n",
       " 'fliplr',\n",
       " 'flipud',\n",
       " 'float16',\n",
       " 'float32',\n",
       " 'float64',\n",
       " 'float_power',\n",
       " 'floating',\n",
       " 'floor',\n",
       " 'floor_divide',\n",
       " 'fmax',\n",
       " 'fmin',\n",
       " 'fmod',\n",
       " 'format_float_positional',\n",
       " 'format_float_scientific',\n",
       " 'frexp',\n",
       " 'from_dlpack',\n",
       " 'frombuffer',\n",
       " 'fromfile',\n",
       " 'fromfunction',\n",
       " 'fromiter',\n",
       " 'frompyfunc',\n",
       " 'fromregex',\n",
       " 'fromstring',\n",
       " 'full',\n",
       " 'full_like',\n",
       " 'gcd',\n",
       " 'generic',\n",
       " 'genfromtxt',\n",
       " 'geomspace',\n",
       " 'get_include',\n",
       " 'get_printoptions',\n",
       " 'getbufsize',\n",
       " 'geterr',\n",
       " 'geterrcall',\n",
       " 'gradient',\n",
       " 'greater',\n",
       " 'greater_equal',\n",
       " 'half',\n",
       " 'hamming',\n",
       " 'hanning',\n",
       " 'heaviside',\n",
       " 'histogram',\n",
       " 'histogram2d',\n",
       " 'histogram_bin_edges',\n",
       " 'histogramdd',\n",
       " 'hsplit',\n",
       " 'hstack',\n",
       " 'hypot',\n",
       " 'i0',\n",
       " 'identity',\n",
       " 'iinfo',\n",
       " 'imag',\n",
       " 'in1d',\n",
       " 'index_exp',\n",
       " 'indices',\n",
       " 'inexact',\n",
       " 'inf',\n",
       " 'info',\n",
       " 'inner',\n",
       " 'insert',\n",
       " 'int16',\n",
       " 'int32',\n",
       " 'int64',\n",
       " 'int8',\n",
       " 'int_',\n",
       " 'intc',\n",
       " 'integer',\n",
       " 'interp',\n",
       " 'intersect1d',\n",
       " 'intp',\n",
       " 'invert',\n",
       " 'is_busday',\n",
       " 'isclose',\n",
       " 'iscomplex',\n",
       " 'iscomplexobj',\n",
       " 'isdtype',\n",
       " 'isfinite',\n",
       " 'isfortran',\n",
       " 'isin',\n",
       " 'isinf',\n",
       " 'isnan',\n",
       " 'isnat',\n",
       " 'isneginf',\n",
       " 'isposinf',\n",
       " 'isreal',\n",
       " 'isrealobj',\n",
       " 'isscalar',\n",
       " 'issubdtype',\n",
       " 'iterable',\n",
       " 'ix_',\n",
       " 'kaiser',\n",
       " 'kron',\n",
       " 'lcm',\n",
       " 'ldexp',\n",
       " 'left_shift',\n",
       " 'less',\n",
       " 'less_equal',\n",
       " 'lexsort',\n",
       " 'lib',\n",
       " 'linalg',\n",
       " 'linspace',\n",
       " 'little_endian',\n",
       " 'load',\n",
       " 'loadtxt',\n",
       " 'log',\n",
       " 'log10',\n",
       " 'log1p',\n",
       " 'log2',\n",
       " 'logaddexp',\n",
       " 'logaddexp2',\n",
       " 'logical_and',\n",
       " 'logical_not',\n",
       " 'logical_or',\n",
       " 'logical_xor',\n",
       " 'logspace',\n",
       " 'long',\n",
       " 'longdouble',\n",
       " 'longlong',\n",
       " 'ma',\n",
       " 'mask_indices',\n",
       " 'matmul',\n",
       " 'matrix',\n",
       " 'matrix_transpose',\n",
       " 'matvec',\n",
       " 'max',\n",
       " 'maximum',\n",
       " 'may_share_memory',\n",
       " 'mean',\n",
       " 'median',\n",
       " 'memmap',\n",
       " 'meshgrid',\n",
       " 'mgrid',\n",
       " 'min',\n",
       " 'min_scalar_type',\n",
       " 'minimum',\n",
       " 'mintypecode',\n",
       " 'mod',\n",
       " 'modf',\n",
       " 'moveaxis',\n",
       " 'multiply',\n",
       " 'nan',\n",
       " 'nan_to_num',\n",
       " 'nanargmax',\n",
       " 'nanargmin',\n",
       " 'nancumprod',\n",
       " 'nancumsum',\n",
       " 'nanmax',\n",
       " 'nanmean',\n",
       " 'nanmedian',\n",
       " 'nanmin',\n",
       " 'nanpercentile',\n",
       " 'nanprod',\n",
       " 'nanquantile',\n",
       " 'nanstd',\n",
       " 'nansum',\n",
       " 'nanvar',\n",
       " 'ndarray',\n",
       " 'ndenumerate',\n",
       " 'ndim',\n",
       " 'ndindex',\n",
       " 'nditer',\n",
       " 'negative',\n",
       " 'nested_iters',\n",
       " 'newaxis',\n",
       " 'nextafter',\n",
       " 'nonzero',\n",
       " 'not_equal',\n",
       " 'number',\n",
       " 'object_',\n",
       " 'ogrid',\n",
       " 'ones',\n",
       " 'ones_like',\n",
       " 'outer',\n",
       " 'packbits',\n",
       " 'pad',\n",
       " 'partition',\n",
       " 'percentile',\n",
       " 'permute_dims',\n",
       " 'pi',\n",
       " 'piecewise',\n",
       " 'place',\n",
       " 'poly',\n",
       " 'poly1d',\n",
       " 'polyadd',\n",
       " 'polyder',\n",
       " 'polydiv',\n",
       " 'polyfit',\n",
       " 'polyint',\n",
       " 'polymul',\n",
       " 'polynomial',\n",
       " 'polysub',\n",
       " 'polyval',\n",
       " 'positive',\n",
       " 'pow',\n",
       " 'power',\n",
       " 'printoptions',\n",
       " 'prod',\n",
       " 'promote_types',\n",
       " 'ptp',\n",
       " 'put',\n",
       " 'put_along_axis',\n",
       " 'putmask',\n",
       " 'quantile',\n",
       " 'r_',\n",
       " 'rad2deg',\n",
       " 'radians',\n",
       " 'random',\n",
       " 'ravel',\n",
       " 'ravel_multi_index',\n",
       " 'real',\n",
       " 'real_if_close',\n",
       " 'rec',\n",
       " 'recarray',\n",
       " 'reciprocal',\n",
       " 'record',\n",
       " 'remainder',\n",
       " 'repeat',\n",
       " 'require',\n",
       " 'reshape',\n",
       " 'resize',\n",
       " 'result_type',\n",
       " 'right_shift',\n",
       " 'rint',\n",
       " 'roll',\n",
       " 'rollaxis',\n",
       " 'roots',\n",
       " 'rot90',\n",
       " 'round',\n",
       " 'row_stack',\n",
       " 's_',\n",
       " 'save',\n",
       " 'savetxt',\n",
       " 'savez',\n",
       " 'savez_compressed',\n",
       " 'sctypeDict',\n",
       " 'searchsorted',\n",
       " 'select',\n",
       " 'set_printoptions',\n",
       " 'setbufsize',\n",
       " 'setdiff1d',\n",
       " 'seterr',\n",
       " 'seterrcall',\n",
       " 'setxor1d',\n",
       " 'shape',\n",
       " 'shares_memory',\n",
       " 'short',\n",
       " 'show_config',\n",
       " 'show_runtime',\n",
       " 'sign',\n",
       " 'signbit',\n",
       " 'signedinteger',\n",
       " 'sin',\n",
       " 'sinc',\n",
       " 'single',\n",
       " 'sinh',\n",
       " 'size',\n",
       " 'sort',\n",
       " 'sort_complex',\n",
       " 'spacing',\n",
       " 'split',\n",
       " 'sqrt',\n",
       " 'square',\n",
       " 'squeeze',\n",
       " 'stack',\n",
       " 'std',\n",
       " 'str_',\n",
       " 'strings',\n",
       " 'subtract',\n",
       " 'sum',\n",
       " 'swapaxes',\n",
       " 'take',\n",
       " 'take_along_axis',\n",
       " 'tan',\n",
       " 'tanh',\n",
       " 'tensordot',\n",
       " 'test',\n",
       " 'testing',\n",
       " 'tile',\n",
       " 'timedelta64',\n",
       " 'trace',\n",
       " 'transpose',\n",
       " 'trapezoid',\n",
       " 'trapz',\n",
       " 'tri',\n",
       " 'tril',\n",
       " 'tril_indices',\n",
       " 'tril_indices_from',\n",
       " 'trim_zeros',\n",
       " 'triu',\n",
       " 'triu_indices',\n",
       " 'triu_indices_from',\n",
       " 'true_divide',\n",
       " 'trunc',\n",
       " 'typecodes',\n",
       " 'typename',\n",
       " 'typing',\n",
       " 'ubyte',\n",
       " 'ufunc',\n",
       " 'uint',\n",
       " 'uint16',\n",
       " 'uint32',\n",
       " 'uint64',\n",
       " 'uint8',\n",
       " 'uintc',\n",
       " 'uintp',\n",
       " 'ulong',\n",
       " 'ulonglong',\n",
       " 'union1d',\n",
       " 'unique',\n",
       " 'unique_all',\n",
       " 'unique_counts',\n",
       " 'unique_inverse',\n",
       " 'unique_values',\n",
       " 'unpackbits',\n",
       " 'unravel_index',\n",
       " 'unsignedinteger',\n",
       " 'unstack',\n",
       " 'unwrap',\n",
       " 'ushort',\n",
       " 'vander',\n",
       " 'var',\n",
       " 'vdot',\n",
       " 'vecdot',\n",
       " 'vecmat',\n",
       " 'vectorize',\n",
       " 'void',\n",
       " 'vsplit',\n",
       " 'vstack',\n",
       " 'where',\n",
       " 'zeros',\n",
       " 'zeros_like']"
      ]
     },
     "execution_count": 4,
     "metadata": {},
     "output_type": "execute_result"
    }
   ],
   "source": [
    "dir(np) # check all the methods in the numpy module"
   ]
  },
  {
   "cell_type": "code",
   "execution_count": 5,
   "metadata": {},
   "outputs": [
    {
     "name": "stdout",
     "output_type": "stream",
     "text": [
      "<class 'numpy.ndarray'>\n",
      "size is  4\n",
      "shape of A is (4,)\n",
      "dimension of A 1\n",
      "item size of A 8\n",
      "data type int64\n",
      "1\n",
      "int64\n",
      "[1. 2. 3.]\n"
     ]
    },
    {
     "data": {
      "text/plain": [
       "array([1., 2., 3.])"
      ]
     },
     "execution_count": 5,
     "metadata": {},
     "output_type": "execute_result"
    }
   ],
   "source": [
    "# Creation of an Numpy Array (Vector)\n",
    "A = np.array([1,2,5,9])\n",
    "\n",
    "# numpy.ndarray\n",
    "print(type(A))\n",
    "print(\"size is \",A.size)\n",
    "print(\"shape of A is\",A.shape)\n",
    "print(\"dimension of A\",A.ndim)\n",
    "print(\"item size of A\",A.itemsize)\n",
    "\n",
    "# default dtype('int64')\n",
    "print(\"data type\",A.dtype) \n",
    "# Note that if we put dot after each element , it changes to float.\n",
    "print(A[0])\n",
    "print(A.dtype)\n",
    "\n",
    "# Change Data Type\n",
    "A = np.array([1,2,3],dtype='float32') # User defined datatype\n",
    "print(A)\n",
    "\n",
    "# Altenatively astype() method\n",
    "A.astype((np.float64))"
   ]
  },
  {
   "cell_type": "code",
   "execution_count": 6,
   "metadata": {},
   "outputs": [
    {
     "name": "stdout",
     "output_type": "stream",
     "text": [
      "2D array A:\n",
      " [[1 2]\n",
      " [2 4]]\n",
      "2D array B:\n",
      " [[ 7.8  9.  10. ]\n",
      " [45.   5.   6. ]]\n",
      "2D array A:\n",
      " [[1 2]\n",
      " [2 3]]\n",
      "3D array A:\n",
      "[[[ 1  2  3]\n",
      "  [ 2  3  4]\n",
      "  [ 4  5  6]]\n",
      "\n",
      " [[ 7  8  9]\n",
      "  [12 13 14]\n",
      "  [14 15 16]]\n",
      "\n",
      " [[27 28 29]\n",
      "  [22 23 24]\n",
      "  [24 25 26]]]\n"
     ]
    }
   ],
   "source": [
    "# Creation of multidimensional Array\n",
    "\n",
    "A = np.array([[1,2],\n",
    "              [2,4]])\n",
    "print(\"2D array A:\\n\",A)\n",
    "\n",
    "# or\n",
    "\n",
    "B = np.array([(7.8, 9, 10), (45, 5, 6)])\n",
    "print(\"2D array B:\\n\",B)\n",
    "\n",
    "# Alternatively\n",
    "A = np.array(([1,2],[2,3]),ndmin=2)\n",
    "print(\"2D array A:\\n\",A)\n",
    "\n",
    "# Creation of 3 dimensional Matrix\n",
    "A = np.array([[[1,2,3],[2,3,4],[4,5,6]],\n",
    "[[7,8,9],[12,13,14],[14,15,16]],\n",
    "[[27,28,29],[22,23,24],[24,25,26]]])\n",
    "print(\"3D array A:\")\n",
    "print(A)"
   ]
  },
  {
   "cell_type": "code",
   "execution_count": 7,
   "metadata": {},
   "outputs": [
    {
     "name": "stdout",
     "output_type": "stream",
     "text": [
      "<U13\n",
      "[11 12 13 14 15 16 17 18 19 20]\n",
      "[ 0  2  3  4  5  6  7 12 13 14]\n",
      "[3 2 2 2 1 1 1 1 1 1]\n"
     ]
    }
   ],
   "source": [
    "# Data Types for Strings\n",
    "A =np.array([\"hello\", \"world citizen\"])\n",
    "print(A.dtype) # dtype('<U13') 13 characters\n",
    "\n",
    "# Unique items in an array 7 Counts\n",
    "A = np.array([11, 11, 12, 13, 14, 15, 16, 17, 12, 13, 11, 14, 18, 19, 20])\n",
    "unique_values = np.unique(A)\n",
    "print(unique_values)\n",
    "\n",
    "unique_values, indices_list = np.unique(A, return_index=True)\n",
    "print(indices_list) # an array of first index positions of unique values\n",
    "\n",
    "unique_values, occurrence_count = np.unique(A, return_counts=True)\n",
    "print(occurrence_count) #frequency count of unique values in a NumPy array"
   ]
  },
  {
   "cell_type": "code",
   "execution_count": 8,
   "metadata": {},
   "outputs": [
    {
     "name": "stdout",
     "output_type": "stream",
     "text": [
      "[3 4] <class 'numpy.ndarray'>\n"
     ]
    }
   ],
   "source": [
    "ar = [\"3\", \"4\"]\n",
    "a = np.array(ar, dtype=np.int32)  # Convert to int32 during array creation\n",
    "print(a, type(a))\n"
   ]
  },
  {
   "cell_type": "markdown",
   "metadata": {},
   "source": [
    "# 2.1.1 Creation of Numpy Array using functions"
   ]
  },
  {
   "cell_type": "code",
   "execution_count": 9,
   "metadata": {},
   "outputs": [
    {
     "name": "stdout",
     "output_type": "stream",
     "text": [
      "[0 1 2]\n",
      "[1 2 3 4]\n",
      "[1 3 5 7 9]\n",
      "[ 4.   7.2 10.4 13.6 16.8 20. ]\n",
      "[0 1 2 3]\n",
      "[0 1 2 3 0 1 2 3 0 1 2 3 0 1]\n"
     ]
    }
   ],
   "source": [
    "A = np.arange(3) # array([0, 1, 2])\n",
    "print(A)\n",
    "\n",
    "A = np.arange(1,5) # start to Stop-1 \\& array([1, 2, 3, 4])\n",
    "print(A)\n",
    "\n",
    "A = np.arange(1,10,2) # start to Stop-1 with step \\& array([1, 3, 5, 7, 9])\n",
    "print(A)\n",
    "\n",
    "A = np.linspace(4, 20, 6) #array([ 4. , 7.2, 10.4, 13.6, 16.8, 20. ])\n",
    "print(A)\n",
    "\n",
    "A = np.array(range(4)) # array([0, 1, 2, 3])\n",
    "print(A)\n",
    "\n",
    "z = np.array([i % 4 for i in range(14)]) # Using List Comprehension\n",
    "print(z)\n",
    "\n"
   ]
  },
  {
   "cell_type": "code",
   "execution_count": 10,
   "metadata": {},
   "outputs": [
    {
     "name": "stdout",
     "output_type": "stream",
     "text": [
      "[0. 0. 0. 0.]\n",
      "\n",
      "[[0. 0. 0. 0.]\n",
      " [0. 0. 0. 0.]\n",
      " [0. 0. 0. 0.]]\n",
      "\n",
      "[[[0. 0. 0.]\n",
      "  [0. 0. 0.]\n",
      "  [0. 0. 0.]\n",
      "  [0. 0. 0.]]\n",
      "\n",
      " [[0. 0. 0.]\n",
      "  [0. 0. 0.]\n",
      "  [0. 0. 0.]\n",
      "  [0. 0. 0.]]\n",
      "\n",
      " [[0. 0. 0.]\n",
      "  [0. 0. 0.]\n",
      "  [0. 0. 0.]\n",
      "  [0. 0. 0.]]]\n",
      "\n",
      "[[[1 1 1 1]\n",
      "  [1 1 1 1]\n",
      "  [1 1 1 1]]\n",
      "\n",
      " [[1 1 1 1]\n",
      "  [1 1 1 1]\n",
      "  [1 1 1 1]]]\n",
      "\n",
      "[[ 4.   7.2 10.4]\n",
      " [13.6 16.8 20. ]]\n",
      "\n",
      "[[1. 0. 0.]\n",
      " [0. 1. 0.]\n",
      " [0. 0. 1.]]\n",
      "\n",
      "[[1 0 0]\n",
      " [0 2 0]\n",
      " [0 0 3]]\n"
     ]
    }
   ],
   "source": [
    "A = np.zeros(4) # array([0., 0., 0., 0.])\n",
    "print(A)\n",
    "print()\n",
    "\n",
    "A = np.zeros((3,4)) #array([[0., 0., 0., 0.],[0., 0., 0., 0.],[0.,0., 0., 0.]])\n",
    "print(A)\n",
    "print()\n",
    "\n",
    "A = np.zeros((3,4,3)) #array([[0., 0., 0., 0.],[0., 0., 0., 0.],[0., 0., 0., 0.]])\n",
    "print(A)\n",
    "print()\n",
    "\n",
    "A = np.ones((2, 3, 4), dtype=np.int16)\n",
    "print(A)\n",
    "print()\n",
    "\n",
    "A = np.empty((2, 3)) # Random elements\n",
    "print(A)\n",
    "print()\n",
    "\n",
    "A = np.eye(3) #array([[1., 0., 0.], [0., 1., 0.],[0., 0., 1.]])\n",
    "print(A)\n",
    "print()\n",
    "\n",
    "A = np.diag([1, 2, 3]) # array([[1, 0, 0],[0, 2, 0],[0, 0, 3]])\n",
    "print(A)"
   ]
  },
  {
   "cell_type": "code",
   "execution_count": 11,
   "metadata": {},
   "outputs": [
    {
     "name": "stdout",
     "output_type": "stream",
     "text": [
      "[[0.  1. ]\n",
      " [0.5 1. ]\n",
      " [1.  1. ]\n",
      " [1.5 1. ]\n",
      " [2.  1. ]]\n",
      "[[1 1]\n",
      " [2 1]\n",
      " [3 1]\n",
      " [4 1]]\n",
      "[[ 1  1  1  1]\n",
      " [ 8  4  2  1]\n",
      " [27  9  3  1]\n",
      " [64 16  4  1]]\n"
     ]
    }
   ],
   "source": [
    "#Vandermonde matrix useful for Least square\n",
    "A = np.vander(np.linspace(0, 2, 5), 2)\n",
    "print(A)\n",
    "\n",
    "B = np.vander([1, 2, 3, 4], 2)\n",
    "print(B)\n",
    "\n",
    "C= np.vander((1, 2, 3, 4), 4)\n",
    "print(C)"
   ]
  },
  {
   "cell_type": "code",
   "execution_count": 12,
   "metadata": {},
   "outputs": [
    {
     "data": {
      "text/plain": [
       "array([[0.77395605, 0.43887844, 0.85859792],\n",
       "       [0.69736803, 0.09417735, 0.97562235]])"
      ]
     },
     "execution_count": 12,
     "metadata": {},
     "output_type": "execute_result"
    }
   ],
   "source": [
    "# Random Matrix\n",
    "rand_gen = np.random.default_rng(42) #instance of default random number generator\n",
    "A=rand_gen.random((2,3)) # array([[0.77395605, 0.43887844, 0.85859792],[0.69736803, 0.09417735,0.97562235]])\n",
    "A"
   ]
  },
  {
   "cell_type": "markdown",
   "metadata": {},
   "source": [
    "# 2.2 Adding, removing, and sorting elements"
   ]
  },
  {
   "cell_type": "code",
   "execution_count": 13,
   "metadata": {},
   "outputs": [
    {
     "name": "stdout",
     "output_type": "stream",
     "text": [
      "sorted array: [1 2 3 4 5 6 7 8]\n",
      "[1 2 3 4 5 6 7 8]\n"
     ]
    },
    {
     "data": {
      "text/plain": [
       "array([[1, 2],\n",
       "       [3, 4],\n",
       "       [5, 6]])"
      ]
     },
     "execution_count": 13,
     "metadata": {},
     "output_type": "execute_result"
    }
   ],
   "source": [
    "A = np.array([2, 1, 5, 3, 7, 4, 6, 8])\n",
    "print(\"sorted array:\",np.sort(A)) # other functions are argsort,lexsort,searchsorted \\& Partition\n",
    "\n",
    "A = np.array([1, 2, 3, 4])\n",
    "B = np.array([5, 6, 7, 8])\n",
    "\n",
    "print(np.concatenate((A, B),axis=0))\n",
    "\n",
    "x = np.array([[1, 2], [3, 4]])\n",
    "y = np.array([[5, 6]])\n",
    "\n",
    "#Concatenate along axis = 0\n",
    "np.concatenate((x, y), axis=0)"
   ]
  },
  {
   "cell_type": "markdown",
   "metadata": {},
   "source": [
    "# 2.3 Indexing and slicing"
   ]
  },
  {
   "cell_type": "code",
   "execution_count": 24,
   "metadata": {},
   "outputs": [
    {
     "name": "stdout",
     "output_type": "stream",
     "text": [
      "A: [ 0  1  4  9 16]\n",
      "B: [1 4 9]\n",
      "[ 0  1  4  9 16]\n",
      "[ 0  1  4  9 16]\n",
      "[ 0  1  4  9 16]\n",
      "[0 1 4 9]\n",
      "[16  9  4  1  0]\n",
      "[ 0  4 16]\n",
      "[ 5  8 11]\n",
      "[7 8 9]\n",
      "[[ 4  5]\n",
      " [ 7  8]\n",
      " [10 11]]\n"
     ]
    },
    {
     "data": {
      "text/plain": [
       "array([10, 11, 12])"
      ]
     },
     "execution_count": 24,
     "metadata": {},
     "output_type": "execute_result"
    }
   ],
   "source": [
    "A = np.arange(5)**2 # array([ 0, 1, 4, 9, 16])\n",
    "print(\"A:\",A)\n",
    "\n",
    "B = A[1:4] # array([1, 4, 9])\n",
    "print(\"B:\",B)\n",
    "\n",
    "print(A[:5]) # array([ 0, 1, 4, 9, 16])\n",
    "\n",
    "print(A[:len(A)+1]) #array([ 0, 1, 4, 9, 16])\n",
    "\n",
    "print(A[0:]) # array([ 0, 1, 4, 9, 16])\n",
    "print(A[:-1]) #array([0, 1, 4, 9])\n",
    "\n",
    "print(A[::-1])\n",
    "\n",
    "print(A[0:5:2])\n",
    "\n",
    "# Slicing 2D Numpy Array\n",
    "A = np.array([[4,5,6],\n",
    "              [7,8,9],\n",
    "              [10,11,12]])\n",
    "\n",
    "print(A[:,1]) # array([ 5, 8, 11]) All rows 2nd column\n",
    "print(A[1,:]) # array([7, 8, 9]) All columns 2nd row\n",
    "print(A[0:3,0:2]) #array([[ 4, 5], [ 7, 8],[10, 11]])\n",
    "A[-1] # the last row. Equivalent to A[-1, :]"
   ]
  },
  {
   "cell_type": "code",
   "execution_count": 22,
   "metadata": {},
   "outputs": [
    {
     "name": "stdout",
     "output_type": "stream",
     "text": [
      "65\n"
     ]
    },
    {
     "data": {
      "text/plain": [
       "'A'"
      ]
     },
     "execution_count": 22,
     "metadata": {},
     "output_type": "execute_result"
    }
   ],
   "source": [
    "print(ord('A'))\n",
    "chr(65)"
   ]
  },
  {
   "cell_type": "markdown",
   "metadata": {},
   "source": [
    "# 2.4 Vector and Matrix calculus with Numpy Arrays"
   ]
  },
  {
   "cell_type": "code",
   "execution_count": 15,
   "metadata": {},
   "outputs": [
    {
     "name": "stdout",
     "output_type": "stream",
     "text": [
      "A:\n",
      " [0 1 2 3 4 5 6] \n",
      "B:\n",
      " [7 6 5 4 3 2 1]\n",
      "A+B:\n",
      " [7 7 7 7 7 7 7]\n",
      "A*B\n",
      " [ 0  6 10 12 12 10  6]\n",
      "A**B\n",
      " [ 0  1 32 81 64 25  6]\n",
      "A.B:\n",
      " 56\n",
      "A.B:\n",
      " 56\n",
      "element wise:\n",
      " [[2 0]\n",
      " [0 4]]\n",
      "matrix:\n",
      " [[5 4]\n",
      " [3 4]]\n",
      "[[5 4]\n",
      " [3 4]]\n",
      "1\n",
      "1\n",
      "0\n",
      "1\n",
      "[[ 1. -1.]\n",
      " [ 0.  1.]]\n"
     ]
    }
   ],
   "source": [
    "# Vector Calculus\n",
    "\n",
    "A = np.arange(0, 7)\n",
    "B = np.arange(7, 0, -1)\n",
    "print(\"A:\\n\",A,\"\\nB:\\n\",B)\n",
    "print(\"A+B:\\n\",A + B)\n",
    "print(\"A*B\\n\",A * B) # Element wise Multiplication\n",
    "print(\"A**B\\n\",A ** B) # Element wise exponentiation\n",
    "print(\"A.B:\\n\",np.dot(A,B)) # Dot product of two vectors\n",
    "print(\"A.B:\\n\",A.dot(B)) # Another Dot product of two vectors\n",
    "\n",
    "# Matrix Calculus\n",
    "\n",
    "A = np.array([[1, 1],[0, 1]])\n",
    "B = np.array([[2, 0],[3, 4]])\n",
    "print(\"element wise:\\n\",A * B) # element-wise product\n",
    "print(\"matrix:\\n\",A @ B) # matrix product\n",
    "print(A.dot(B)) # another matrix product\n",
    "\n",
    "# Iterator over all element in an array\n",
    "for element in A.flat:\n",
    "    print(element)\n",
    "\n",
    "# Inverse of Matrix\n",
    "inv_A = np.linalg.inv(A) # Use linalg method\n",
    "print(inv_A)"
   ]
  },
  {
   "cell_type": "markdown",
   "metadata": {},
   "source": [
    "# 2.5 Array’s Shape Manipulation and Stacking"
   ]
  },
  {
   "cell_type": "code",
   "execution_count": 16,
   "metadata": {},
   "outputs": [
    {
     "name": "stdout",
     "output_type": "stream",
     "text": [
      "Array A:\n",
      " [[7. 4. 8. 6.]\n",
      " [0. 9. 7. 7.]\n",
      " [1. 4. 3. 9.]]\n",
      "x:\n",
      " [9. 4. 8. 6. 0. 9. 7. 7. 1. 4. 3. 9.]\n",
      "now\n",
      " [9. 4. 8. 6. 0. 9. 7. 7. 1. 4. 3. 9.] \n",
      " [[9. 4. 8. 6.]\n",
      " [0. 9. 7. 7.]\n",
      " [1. 4. 3. 9.]]\n",
      "y:\n",
      " [9. 4. 8. 6. 0. 9. 7. 7. 1. 4. 3. 9.]\n",
      "now\n",
      " [8. 4. 8. 6. 0. 9. 7. 7. 1. 4. 3. 9.] \n",
      " [[9. 4. 8. 6.]\n",
      " [0. 9. 7. 7.]\n",
      " [1. 4. 3. 9.]]\n",
      "z:\n",
      " [[9. 4.]\n",
      " [8. 6.]\n",
      " [0. 9.]\n",
      " [7. 7.]\n",
      " [1. 4.]\n",
      " [3. 9.]]\n",
      "transpose:\n",
      " [[9. 0. 1.]\n",
      " [4. 9. 4.]\n",
      " [8. 7. 3.]\n",
      " [6. 7. 9.]]\n"
     ]
    }
   ],
   "source": [
    "# Create a random Matrix\n",
    "rg=np.random.default_rng(42)\n",
    "A = np.floor(10 * rg.random((3, 4)))\n",
    "print(\"Array A:\\n\",A)\n",
    "\n",
    "x = A.ravel() # returns the array, flattened but a reference to the parent array (i.e., a \"view\")\n",
    "x[0] = 9\n",
    "print(\"x:\\n\",x)\n",
    "print(\"now\\n\",x,\"\\n\",A)\n",
    "\n",
    "# Or alternatively\n",
    "y = A.flatten() # flatten, changes to your new array wont change the parent array.\n",
    "print(\"y:\\n\",y)\n",
    "y[0]=8\n",
    "print(\"now\\n\",y,\"\\n\",A)\n",
    "\n",
    "z = A.reshape(6, 2) # returns the array with a modified shape\n",
    "print(\"z:\\n\",z)\n",
    "\n",
    "print(\"transpose:\\n\",A.T) # returns the array, transposed"
   ]
  },
  {
   "cell_type": "code",
   "execution_count": 17,
   "metadata": {},
   "outputs": [
    {
     "name": "stdout",
     "output_type": "stream",
     "text": [
      "[[[ 0  1  2]\n",
      "  [ 3  4  5]\n",
      "  [ 6  7  8]\n",
      "  [ 9 10 11]\n",
      "  [12 13 14]]\n",
      "\n",
      " [[15 16 17]\n",
      "  [18 19 20]\n",
      "  [21 22 23]\n",
      "  [24 25 26]\n",
      "  [27 28 29]]]\n",
      "(2, 5, 3)\n"
     ]
    },
    {
     "ename": "ValueError",
     "evalue": "cannot resize an array that references or is referenced\nby another array in this way.\nUse the np.resize function or refcheck=False",
     "output_type": "error",
     "traceback": [
      "\u001b[31m---------------------------------------------------------------------------\u001b[39m",
      "\u001b[31mValueError\u001b[39m                                Traceback (most recent call last)",
      "\u001b[36mCell\u001b[39m\u001b[36m \u001b[39m\u001b[32mIn[17]\u001b[39m\u001b[32m, line 8\u001b[39m\n\u001b[32m      5\u001b[39m \u001b[38;5;28mprint\u001b[39m(B.shape)\n\u001b[32m      6\u001b[39m \u001b[38;5;66;03m# The reshape function returns its argument with a modified shape,\u001b[39;00m\n\u001b[32m      7\u001b[39m \u001b[38;5;66;03m# whereas the ndarray.resize method modifies the array itself.\u001b[39;00m\n\u001b[32m----> \u001b[39m\u001b[32m8\u001b[39m \u001b[43mA\u001b[49m\u001b[43m.\u001b[49m\u001b[43mresize\u001b[49m\u001b[43m(\u001b[49m\u001b[32;43m3\u001b[39;49m\u001b[43m,\u001b[49m\u001b[32;43m2\u001b[39;49m\u001b[43m)\u001b[49m\n",
      "\u001b[31mValueError\u001b[39m: cannot resize an array that references or is referenced\nby another array in this way.\nUse the np.resize function or refcheck=False"
     ]
    }
   ],
   "source": [
    "A = np.arange(30)\n",
    "B = A.reshape((2, 5, -1)) # -1 means \"whatever is needed\"  into_parts , rows , columns\n",
    "# print(B)\n",
    "print(B) # Its shape is (2, 5, 3) i.e two 5 by 3 matrix\n",
    "print(B.shape)\n",
    "# The reshape function returns its argument with a modified shape,\n",
    "# whereas the ndarray.resize method modifies the array itself.\n",
    "A.resize(3,2)"
   ]
  },
  {
   "cell_type": "code",
   "execution_count": null,
   "metadata": {},
   "outputs": [
    {
     "name": "stdout",
     "output_type": "stream",
     "text": [
      "[[[ 0  1  2  3  4  5]\n",
      "  [ 6  7  8  9 10 11]\n",
      "  [12 13 14 15 16 17]\n",
      "  [18 19 20 21 22 23]\n",
      "  [24 25 26 27 28 29]]]\n",
      "(1, 5, 6)\n"
     ]
    }
   ],
   "source": [
    "A = np.arange(30)\n",
    "B = A.reshape((-1, 5, 6)) # -1 means \"whatever is needed\"  into_parts , rows , columns\n",
    "# print(B)\n",
    "print(B) # Its shape is (2, 5, 3) i.e two 5 by 3 matrix\n",
    "print(B.shape)"
   ]
  },
  {
   "cell_type": "code",
   "execution_count": null,
   "metadata": {},
   "outputs": [
    {
     "name": "stdout",
     "output_type": "stream",
     "text": [
      "Vertical stacks:\n",
      " [[ 2  3]\n",
      " [ 4  5]\n",
      " [ 7  8]\n",
      " [ 9 10]]\n",
      "Horizontal Stacks:\n",
      " [[ 2  3  7  8]\n",
      " [ 4  5  9 10]]\n",
      "A:\n",
      " [6 7] \n",
      "B:\n",
      " [8 9]\n",
      "column stack:\n",
      " [[6 8]\n",
      " [7 9]]\n",
      "\n",
      "[[6 7]\n",
      " [8 9]]\n"
     ]
    }
   ],
   "source": [
    "# Stacking together different arrays\n",
    "A = np.array([[2,3],[4,5]])\n",
    "B = np.array([[7,8],[9,10]])\n",
    "\n",
    "print(\"Vertical stacks:\\n\",np.vstack((A, B))) # Vertical Stacking stacks along their first axes\n",
    "print(\"Horizontal Stacks:\\n\",np.hstack((A, B))) # Horizontal Stacking stacks along their second axes\n",
    "\n",
    "# Column stacking by converting row into column vector & then stacks along column\n",
    "A = np.array([6, 7])\n",
    "B = np.array([8, 9])\n",
    "print(\"A:\\n\",A,\"\\nB:\\n\",B)\n",
    "print(\"column stack:\\n\",np.column_stack((A, B))) # returns a 2D array\n",
    "# Or\n",
    "print()\n",
    "print(np.vstack((A.T,B.T)))"
   ]
  },
  {
   "cell_type": "code",
   "execution_count": null,
   "metadata": {},
   "outputs": [],
   "source": [
    "# Use of Newaxis & increasing the dimensions from 1D to 2D\n",
    "A = np.array([6, 7])\n",
    "A.shape # Its shape is (2,)\n",
    "B = A[:, np.newaxis] # view A as a 2D column vector\n",
    "B.shape # Its shape is 2 by 1\n",
    "B = A[np.newaxis,:]\n",
    "B.shape # Its shape is 1 by 2\n",
    "# Or Use np.expand_dims to add an axis at index position 1 with:\n",
    "B = np.expand_dims(A, axis=1)\n",
    "B.shape\n",
    "# Fliping an Array\n",
    "A = np.array([1, 2, 3, 4, 5, 6, 7, 8])\n",
    "reversed_A = np.flip(A)\n",
    "# For Matrix A\n",
    "reversed_arr_rows = np.flip(A, axis=0)\n",
    "# reversed_arr_columns = np.flip(A, axis=1)\n",
    "reversed_arr_columns = np.flip(A, axis=0)"
   ]
  },
  {
   "cell_type": "markdown",
   "metadata": {},
   "source": [
    "# 2.6 Save and load NumPy objects"
   ]
  },
  {
   "cell_type": "code",
   "execution_count": null,
   "metadata": {},
   "outputs": [],
   "source": [
    "import numpy as np"
   ]
  },
  {
   "cell_type": "code",
   "execution_count": null,
   "metadata": {},
   "outputs": [
    {
     "data": {
      "text/plain": [
       "array([1., 2., 3., 4., 5., 6., 7., 8.])"
      ]
     },
     "execution_count": 10,
     "metadata": {},
     "output_type": "execute_result"
    }
   ],
   "source": [
    "A = np.array([1, 2, 3, 4, 5, 6])\n",
    "np.save('filename', A) # Saving it as \"filename.npy\"\n",
    "B = np.load('filename.npy')\n",
    "\n",
    "# Save a NumPy array as a plain text file like a .csv or .txt file with np.savetxt\n",
    "csv_arr = np.array([1, 2, 3, 4, 5, 6, 7, 8])\n",
    "\n",
    "# savetxt() and loadtxt() functions accept additional optional\n",
    "\n",
    "# parameters such as header, footer, and delimiter.\n",
    "np.savetxt('new_file.csv', csv_arr)\n",
    "np.loadtxt('new_file.csv')"
   ]
  },
  {
   "cell_type": "code",
   "execution_count": null,
   "metadata": {},
   "outputs": [],
   "source": [
    "import numpy as np\n",
    "\n",
    "# Saving a NumPy array to a binary file (.npy)\n",
    "A = np.array([1, 2, 3, 4, 5, 6])\n",
    "np.save('filename.npy', A)\n",
    "\n",
    "# Loading from the binary file\n",
    "B = np.load('filename.npy')\n",
    "\n",
    "# Saving a NumPy array to a CSV file with a header, footer, and a comma delimiter\n",
    "csv_arr = np.array([1, 2, 3, 4, 5, 6, 7, 8])\n",
    "np.savetxt('new_file.csv', csv_arr, delimiter=',', header='Header: My Data', footer='Footer: End of Data', fmt='%d')\n",
    "\n",
    "# Loading the CSV file\n",
    "loaded_csv = np.loadtxt('new_file.csv', delimiter=',')"
   ]
  },
  {
   "cell_type": "markdown",
   "metadata": {},
   "source": [
    "# 2.7 Advanced Concepts in Numpy"
   ]
  },
  {
   "cell_type": "markdown",
   "metadata": {},
   "source": [
    "2.7.1 Structured arrays in Numpy\n",
    "Structured arrays are ndarrays whose datatype is a composition of simpler\n",
    "datatypes organized as a sequence of named fields. For example,"
   ]
  },
  {
   "cell_type": "code",
   "execution_count": null,
   "metadata": {},
   "outputs": [],
   "source": [
    "x = np.array([('Rex', 9, 81.0), ('Fido', 3, 27.0)],\n",
    "dtype=[('name', 'U10'), ('age', 'i4'), ('weight', 'f4')]\n",
    ")\n",
    "# Here x is a one-dimensional array of length two whose datatype is\n",
    "#a structure with three fields:\n",
    "# 1. A string of length 10 or less named 'name'\n",
    "# 2. a 32-bit integer named 'age'\n",
    "# 3. a 32-bit float named 'weight'\n",
    "x[1] # ('Fido', 3, 27.)\n",
    "x['age'] # array([9, 3], dtype=int32)"
   ]
  },
  {
   "cell_type": "markdown",
   "metadata": {},
   "source": [
    "# 2.7.2 Advanced indexing in Numpy"
   ]
  },
  {
   "cell_type": "code",
   "execution_count": null,
   "metadata": {},
   "outputs": [
    {
     "name": "stdout",
     "output_type": "stream",
     "text": [
      "[ 1  1  9 64 25]\n",
      "[[ 9 16]\n",
      " [81 49]]\n",
      "[[ 2  5]\n",
      " [ 7 11]]\n",
      "[[ 2  6]\n",
      " [ 6 10]]\n",
      "[[[ 2  1]\n",
      "  [ 3  3]]\n",
      "\n",
      " [[ 6  5]\n",
      "  [ 7  7]]\n",
      "\n",
      " [[10  9]\n",
      "  [11 11]]]\n"
     ]
    }
   ],
   "source": [
    "A = np.arange(12)**2                    # the first 12 square numbers\n",
    "i = np.array([1, 1, 3, 8, 5])           # an array of indices\n",
    "print(A[i])                             # the elements of A at the positions i\n",
    "# Output - array([ 1, 1, 9, 64, 25])\n",
    "\n",
    "j = np.array([[3, 4], [9, 7]])          # A bidimensional array of indices\n",
    "print(A[j])                             # the same shape as `j`\n",
    "# Output - array([[ 9, 16],[81, 49]])\n",
    "\n",
    "A = np.arange(12).reshape(3, 4)\n",
    "i = np.array([[0, 1],[1, 2]])           # indices for the first dim of A\n",
    "j = np.array([[2, 1],[3, 3]])           # indices for the second dim of A\n",
    "print(A[i, j])                          # i and j must have equal shape\n",
    "# Its is same as A[l] where l = (i,j)\n",
    "\n",
    "print(A[i, 2])\n",
    "print(A[:, j])"
   ]
  },
  {
   "cell_type": "markdown",
   "metadata": {},
   "source": [
    "# Join and Split"
   ]
  },
  {
   "cell_type": "code",
   "execution_count": null,
   "metadata": {},
   "outputs": [],
   "source": [
    "import numpy as np"
   ]
  },
  {
   "cell_type": "code",
   "execution_count": null,
   "metadata": {},
   "outputs": [
    {
     "name": "stdout",
     "output_type": "stream",
     "text": [
      "[[51 41]\n",
      " [71 81]\n",
      " [15 14]\n",
      " [17 18]]\n"
     ]
    }
   ],
   "source": [
    "arr1 = np.array([[51,41],\n",
    "                 [71,81]])\n",
    "arr2 = np.array([[15,14],\n",
    "                 [17,18]])\n",
    "print(np.concatenate([arr1,arr2]))"
   ]
  },
  {
   "cell_type": "code",
   "execution_count": null,
   "metadata": {},
   "outputs": [
    {
     "name": "stdout",
     "output_type": "stream",
     "text": [
      "[[51 41]\n",
      " [71 81]\n",
      " [15 14]\n",
      " [17 18]]\n"
     ]
    }
   ],
   "source": [
    "print(np.concatenate([arr1,arr2],axis=0))"
   ]
  },
  {
   "cell_type": "code",
   "execution_count": null,
   "metadata": {},
   "outputs": [
    {
     "name": "stdout",
     "output_type": "stream",
     "text": [
      "[[51 41 15 14]\n",
      " [71 81 17 18]]\n"
     ]
    }
   ],
   "source": [
    "print(np.concatenate([arr1,arr2],axis=1))"
   ]
  },
  {
   "cell_type": "code",
   "execution_count": null,
   "metadata": {},
   "outputs": [
    {
     "name": "stdout",
     "output_type": "stream",
     "text": [
      "[[51 41 15 14]\n",
      " [71 81 17 18]]\n"
     ]
    }
   ],
   "source": [
    "print(np.hstack([arr1,arr2]))"
   ]
  },
  {
   "cell_type": "code",
   "execution_count": null,
   "metadata": {},
   "outputs": [
    {
     "name": "stdout",
     "output_type": "stream",
     "text": [
      "[[51 41]\n",
      " [71 81]\n",
      " [15 14]\n",
      " [17 18]]\n"
     ]
    }
   ],
   "source": [
    "print(np.vstack([arr1,arr2]))"
   ]
  },
  {
   "cell_type": "code",
   "execution_count": null,
   "metadata": {},
   "outputs": [
    {
     "data": {
      "text/plain": [
       "array([44, 55, 66])"
      ]
     },
     "execution_count": 137,
     "metadata": {},
     "output_type": "execute_result"
    }
   ],
   "source": [
    "a = np.array([11,22,33,44,55,66,77,88,99])\n",
    "b = np.array_split(a,3)\n",
    "# b = np.hsplit(a,3)\n",
    "b[1]"
   ]
  },
  {
   "cell_type": "code",
   "execution_count": null,
   "metadata": {},
   "outputs": [
    {
     "name": "stdout",
     "output_type": "stream",
     "text": [
      "[44 55 66 77 88 99]\n"
     ]
    }
   ],
   "source": [
    "even = a>33\n",
    "new = a[even]\n",
    "print(new)"
   ]
  },
  {
   "cell_type": "code",
   "execution_count": null,
   "metadata": {},
   "outputs": [
    {
     "data": {
      "text/plain": [
       "array([ 22,  44,  66,  88, 110, 132, 154, 176, 198])"
      ]
     },
     "execution_count": 34,
     "metadata": {},
     "output_type": "execute_result"
    }
   ],
   "source": [
    "c = a*2\n",
    "c"
   ]
  },
  {
   "cell_type": "code",
   "execution_count": null,
   "metadata": {},
   "outputs": [
    {
     "data": {
      "text/plain": [
       "array([44, 66, 88])"
      ]
     },
     "execution_count": 36,
     "metadata": {},
     "output_type": "execute_result"
    }
   ],
   "source": [
    "d = np.array([44,33,55,66,88])\n",
    "fa = d%2==0\n",
    "new = d[fa]\n",
    "new"
   ]
  },
  {
   "cell_type": "markdown",
   "metadata": {},
   "source": [
    "# Statistical Function"
   ]
  },
  {
   "cell_type": "code",
   "execution_count": null,
   "metadata": {},
   "outputs": [],
   "source": [
    "import numpy as np\n",
    "import statistics as stats"
   ]
  },
  {
   "cell_type": "code",
   "execution_count": null,
   "metadata": {},
   "outputs": [
    {
     "name": "stdout",
     "output_type": "stream",
     "text": [
      "171.0\n",
      "171.0\n",
      "175.0\n",
      "200\n",
      "24.020824298928627\n",
      "577.0\n"
     ]
    }
   ],
   "source": [
    "baked_food = [200,150,150,130,200,180,170,188]\n",
    "a=np.array(baked_food)\n",
    "print(np.mean(a))\n",
    "print(np.average(a))\n",
    "print(np.median(a))\n",
    "print(stats.mode(a))\n",
    "print(np.std(a))\n",
    "print(np.var(a))"
   ]
  },
  {
   "cell_type": "code",
   "execution_count": null,
   "metadata": {},
   "outputs": [
    {
     "name": "stdout",
     "output_type": "stream",
     "text": [
      "[[ 1.         -0.47249791]\n",
      " [-0.47249791  1.        ]]\n"
     ]
    }
   ],
   "source": [
    "tobbaco_consumption = [30,50,10,30,40,50]\n",
    "deaths = [100,120,146,150,70,112]\n",
    "print(np.corrcoef([tobbaco_consumption,deaths]))"
   ]
  }
 ],
 "metadata": {
  "kernelspec": {
   "display_name": "Python 3",
   "language": "python",
   "name": "python3"
  },
  "language_info": {
   "codemirror_mode": {
    "name": "ipython",
    "version": 3
   },
   "file_extension": ".py",
   "mimetype": "text/x-python",
   "name": "python",
   "nbconvert_exporter": "python",
   "pygments_lexer": "ipython3",
   "version": "3.13.3"
  }
 },
 "nbformat": 4,
 "nbformat_minor": 2
}
